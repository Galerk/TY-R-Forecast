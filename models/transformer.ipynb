{
 "cells": [
  {
   "cell_type": "code",
   "execution_count": 1,
   "metadata": {},
   "outputs": [],
   "source": [
    "%matplotlib inline\n",
    "import os\n",
    "import tqdm\n",
    "import datetime as dt\n",
    "import numpy as np\n",
    "import matplotlib.pyplot as plt\n",
    "import seaborn as sns\n",
    "\n",
    "import torch\n",
    "import torch.nn as nn\n",
    "import torch.nn.functional as F\n",
    "from torch.utils.data import DataLoader\n",
    "from torchvision import transforms\n",
    "\n",
    "from src.utils.easyparser import *\n",
    "from src.utils.visulize import plot_input\n",
    "from src.utils.loss import Loss\n",
    "from src.dataseters.GRUs import TyDataset, ToTensor, Normalize\n",
    "from src.operators.transformer import *"
   ]
  },
  {
   "cell_type": "markdown",
   "metadata": {},
   "source": [
    "##### Get args"
   ]
  },
  {
   "cell_type": "code",
   "execution_count": 2,
   "metadata": {},
   "outputs": [],
   "source": [
    "settings = parser()\n",
    "# print(settings.initial_args)\n",
    "settings.initial_args.gpu = 0\n",
    "settings.initial_args.I_size = 120\n",
    "settings.initial_args.F_size = 120\n",
    "settings.initial_args.batch_size = 5\n",
    "args = settings.get_args()"
   ]
  },
  {
   "cell_type": "markdown",
   "metadata": {},
   "source": [
    "#### Make some settings\n",
    "1. Set gpu device\n",
    "2. Set torch's and numpy's manual seed"
   ]
  },
  {
   "cell_type": "code",
   "execution_count": 3,
   "metadata": {},
   "outputs": [],
   "source": [
    "torch.cuda.set_device(args.gpu)\n",
    "np.random.seed(args.seed)\n",
    "torch.manual_seed(args.seed)\n",
    "torch.cuda.manual_seed(args.seed)"
   ]
  },
  {
   "cell_type": "markdown",
   "metadata": {},
   "source": [
    "##### Make dataloaders for training and validating"
   ]
  },
  {
   "cell_type": "code",
   "execution_count": 4,
   "metadata": {},
   "outputs": [],
   "source": [
    "# set transform tool for datasets\n",
    "if args.normalize_input:\n",
    "    transform = transforms.Compose([ToTensor(), Normalize(args)])\n",
    "else:\n",
    "    transform = transforms.Compose([ToTensor()])\n",
    "    \n",
    "# training and validating data\n",
    "trainset = TyDataset(args, train=True, transform=transform)\n",
    "valiset = TyDataset(args, train=False, transform=transform)\n",
    "\n",
    "# dataloader\n",
    "train_kws = {'num_workers': 4, 'pin_memory': True} if args.able_cuda else {}\n",
    "test_kws = {'num_workers': 4, 'pin_memory': True} if args.able_cuda else {}\n",
    "\n",
    "trainloader = DataLoader(dataset=trainset, batch_size=args.batch_size, shuffle=True, **train_kws)\n",
    "valiloader = DataLoader(dataset=valiset, batch_size=args.batch_size, shuffle=False, **test_kws)"
   ]
  },
  {
   "cell_type": "code",
   "execution_count": 5,
   "metadata": {},
   "outputs": [],
   "source": [
    "# inputs = torch.Size([6, 1, 120, 120])\n",
    "# height = torch.Size([120, 120])\n",
    "# targets = torch.Size([18, 120, 120])\n",
    "# ty_infos = torch.Size([24, 3])\n",
    "# for i in range(len(trainset)):\n",
    "#     if trainset[i]['inputs'].shape != inputs:\n",
    "#         print(trainset[i]['inputs'].shape)\n",
    "#     if trainset[i]['height'].shape != height:\n",
    "#         print(trainset[i]['height'].shape)\n",
    "#     if trainset[i]['targets'].shape != targets:\n",
    "#         print(trainset[i]['targets'].shape)\n",
    "#     if trainset[i]['ty_infos'].shape != ty_infos:\n",
    "#         print(trainset[i]['ty_infos'].shape)"
   ]
  },
  {
   "cell_type": "markdown",
   "metadata": {},
   "source": [
    "##### Print and visulize data"
   ]
  },
  {
   "cell_type": "code",
   "execution_count": 6,
   "metadata": {},
   "outputs": [],
   "source": [
    "# for idx, data in enumerate(trainloader):\n",
    "#     src = data['inputs'].to(device=args.device)\n",
    "#     tgt = data['targets'].to(device=args.device).unsqueeze(2)\n",
    "#     if (idx+1) % 10 == 0:\n",
    "#         print('{:d}/{:d}'.format(idx+1, len(trainloader)))\n",
    "# args.figure_dpi = 80\n",
    "# plot_input(args=args, x=a['inputs'][0], current_time=a['current_time'][0])"
   ]
  },
  {
   "cell_type": "markdown",
   "metadata": {},
   "source": [
    "#### Test transformer"
   ]
  },
  {
   "cell_type": "code",
   "execution_count": 7,
   "metadata": {},
   "outputs": [],
   "source": [
    "model = make_model(H=args.I_size, W=args.I_size, input_channel=1, d_channel=5, d_channel_ff=10) \\\n",
    "                    .to(device=args.device, dtype=args.value_dtype)"
   ]
  },
  {
   "cell_type": "code",
   "execution_count": 8,
   "metadata": {},
   "outputs": [
    {
     "data": {
      "text/plain": [
       "[<matplotlib.lines.Line2D at 0x7f2f9a1ebba8>]"
      ]
     },
     "execution_count": 8,
     "metadata": {},
     "output_type": "execute_result"
    },
    {
     "name": "stderr",
     "output_type": "stream",
     "text": [
      "findfont: Font family ['Arial'] not found. Falling back to DejaVu Sans.\n"
     ]
    },
    {
     "data": {
      "image/png": "[encoded data removed]",
      "text/plain": [
       "<Figure size 432x288 with 1 Axes>"
      ]
     },
     "metadata": {
      "needs_background": "light"
     },
     "output_type": "display_data"
    }
   ],
   "source": [
    "optimizer = torch.optim.Adam(model.parameters(), lr=args.lr, weight_decay=args.weight_decay)\n",
    "lr_scheduler = torch.optim.lr_scheduler.ExponentialLR(optimizer, gamma=1.25)\n",
    "lr = []\n",
    "for i in range(30):\n",
    "    if i >= 10:\n",
    "        lr_scheduler.gamma = 0.85\n",
    "    lr_scheduler.step()\n",
    "    lr.append(optimizer.param_groups[0]['lr'])\n",
    "plt.plot(lr)"
   ]
  },
  {
   "cell_type": "code",
   "execution_count": 9,
   "metadata": {},
   "outputs": [],
   "source": [
    "def train_epoch(model, dataloader, optimizer, args):\n",
    "    model.train()\n",
    "    \n",
    "    tmp_loss = 0\n",
    "    total_loss = 0\n",
    "    device = args.device\n",
    "    dtype = args.value_dtype\n",
    "    loss_function = args.loss_function\n",
    "    \n",
    "    total_idx = len(dataloader)\n",
    "    \n",
    "    for idx, data in enumerate(dataloader,0):\n",
    "        src = data['inputs'].to(device=device,dtype=dtype)\n",
    "        tgt = data['targets'].to(device=device,dtype=dtype).unsqueeze(2)\n",
    "        src_mask = torch.ones(1, src.shape[1]).to(device=device,dtype=dtype)\n",
    "        tgt_mask = subsequent_mask(tgt.shape[1]).to(device=device,dtype=dtype)\n",
    "        pred = model(src, tgt, src_mask, tgt_mask)\n",
    "        \n",
    "        optimizer.zero_grad()\n",
    "        \n",
    "        loss = loss_function(pred, tgt.squeeze(2))\n",
    "        loss.backward()\n",
    "        \n",
    "        optimizer.step()\n",
    "        \n",
    "        tmp_loss += loss.item()/200\n",
    "        total_loss += loss.item()/total_idx\n",
    "        \n",
    "        if (idx+1) % 100 == 0:\n",
    "            print('{:d}/{:d}: Loss: {:.2f}'.format(idx+1, total_idx, tmp_loss))\n",
    "            tmp_loss = 0\n",
    "            \n",
    "    return total_loss"
   ]
  },
  {
   "cell_type": "code",
   "execution_count": null,
   "metadata": {},
   "outputs": [
    {
     "name": "stdout",
     "output_type": "stream",
     "text": [
      "Learning rate: 8.5e-05\n"
     ]
    }
   ],
   "source": [
    "lr_scheduler = torch.optim.lr_scheduler.ExponentialLR(optimizer, gamma=1.25)\n",
    "trainloss_df = pd.DataFrame([],index=pd.Index(range(args.max_epochs), name='Epoch'), columns=['Train_loss'])\n",
    "for epoch in range(args.max_epochs):\n",
    "    if i >= 10:\n",
    "        lr_scheduler.gamma = 0.85\n",
    "    lr_scheduler.step()\n",
    "    lr = optimizer.param_groups[0]['lr']\n",
    "    print('Learning rate: {}'.format(lr))\n",
    "    \n",
    "    trainloss_df.iloc[epoch] = train_epoch(model, trainloader, optimizer, args)\n",
    "    print('Epoch {:03d}: Loss= {:.2f}'.format(epoch, trainloss_df.iat[epoch,0]))"
   ]
  },
  {
   "cell_type": "code",
   "execution_count": null,
   "metadata": {},
   "outputs": [],
   "source": []
  },
  {
   "cell_type": "code",
   "execution_count": null,
   "metadata": {},
   "outputs": [],
   "source": []
  },
  {
   "cell_type": "code",
   "execution_count": null,
   "metadata": {},
   "outputs": [],
   "source": []
  },
  {
   "cell_type": "code",
   "execution_count": null,
   "metadata": {},
   "outputs": [],
   "source": []
  },
  {
   "cell_type": "code",
   "execution_count": null,
   "metadata": {},
   "outputs": [],
   "source": []
  }
 ],
 "metadata": {
  "kernelspec": {
   "display_name": "Python 3",
   "language": "python",
   "name": "python3"
  },
  "language_info": {
   "codemirror_mode": {
    "name": "ipython",
    "version": 3
   },
   "file_extension": ".py",
   "mimetype": "text/x-python",
   "name": "python",
   "nbconvert_exporter": "python",
   "pygments_lexer": "ipython3",
   "version": "3.7.3"
  }
 },
 "nbformat": 4,
 "nbformat_minor": 2
}
