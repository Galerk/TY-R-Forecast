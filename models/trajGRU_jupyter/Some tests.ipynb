{
 "cells": [
  {
   "cell_type": "code",
   "execution_count": 4,
   "metadata": {
    "ExecuteTime": {
     "end_time": "2019-03-12T05:56:22.466146Z",
     "start_time": "2019-03-12T05:56:22.463496Z"
    }
   },
   "outputs": [],
   "source": [
    "import os\n",
    "import time\n",
    "import pandas as pd\n",
    "pd.set_option('precision', 4)\n",
    "\n",
    "import torch\n",
    "import torch.optim as optim\n",
    "from torch.utils.data import DataLoader\n",
    "from torchvision import transforms, utils\n",
    "\n",
    "from tools.args_tools import args\n",
    "from tools.trajGRU import model"
   ]
  },
  {
   "cell_type": "code",
   "execution_count": 11,
   "metadata": {
    "ExecuteTime": {
     "end_time": "2019-03-12T05:58:20.409830Z",
     "start_time": "2019-03-12T05:58:20.404245Z"
    }
   },
   "outputs": [
    {
     "data": {
      "text/plain": [
       "{'disable_cuda': False,\n",
       " 'gpu': 0,\n",
       " 'max_epochs': 50,\n",
       " 'lr': 0.0001,\n",
       " 'lr_scheduler': False,\n",
       " 'weight_decay': 0.1,\n",
       " 'clip': False,\n",
       " 'clip_max_norm': 100,\n",
       " 'batch_norm': False,\n",
       " 'normalize_target': False,\n",
       " 'input_frames': 6,\n",
       " 'output_frames': 18,\n",
       " 'input_with_grid': False,\n",
       " 'channel_factor': 2,\n",
       " 'I_lat_l': 23.9125,\n",
       " 'I_lat_h': 26.15,\n",
       " 'I_lon_l': 120.4,\n",
       " 'I_lon_h': 122.6375,\n",
       " 'F_lat_l': 24.6625,\n",
       " 'F_lat_h': 25.4,\n",
       " 'F_lon_l': 121.15,\n",
       " 'F_lon_h': 121.8875,\n",
       " 'res_degree': 0.0125,\n",
       " 'origin_lat_l': 20,\n",
       " 'origin_lat_h': 27,\n",
       " 'origin_lon_l': 118,\n",
       " 'origin_lon_h': 123.5,\n",
       " 'working_folder': '/home/jack/Onedrive/01_IIS/04_TY_research',\n",
       " 'root_dir': '/home/jack/Onedrive/01_IIS/04_TY_research/01_Radar_data/02_numpy_files',\n",
       " 'ty_list_file': '/home/jack/Onedrive/01_IIS/04_TY_research/ty_list.xlsx',\n",
       " 'result_dir': '/home/jack/Onedrive/01_IIS/04_TY_research/04_results',\n",
       " 'params_dir': '/home/jack/Onedrive/01_IIS/04_TY_research/05_params',\n",
       " 'I_x_left': 193,\n",
       " 'I_x_right': 372,\n",
       " 'I_y_low': 314,\n",
       " 'I_y_high': 493,\n",
       " 'F_x_left': 253,\n",
       " 'F_x_right': 312,\n",
       " 'F_y_low': 374,\n",
       " 'F_y_high': 433,\n",
       " 'device': device(type='cuda', index=0),\n",
       " 'F_shape': [60, 60],\n",
       " 'I_shape': [180, 180]}"
      ]
     },
     "execution_count": 11,
     "metadata": {},
     "output_type": "execute_result"
    }
   ],
   "source": [
    "args"
   ]
  },
  {
   "cell_type": "code",
   "execution_count": 5,
   "metadata": {
    "ExecuteTime": {
     "end_time": "2019-03-12T05:56:22.972409Z",
     "start_time": "2019-03-12T05:56:22.963893Z"
    }
   },
   "outputs": [
    {
     "ename": "NameError",
     "evalue": "name 'inputs_channels' is not defined",
     "output_type": "error",
     "traceback": [
      "\u001b[0;31m---------------------------------------------------------------------------\u001b[0m",
      "\u001b[0;31mNameError\u001b[0m                                 Traceback (most recent call last)",
      "\u001b[0;32m<ipython-input-5-fb29bef85181>\u001b[0m in \u001b[0;36m<module>\u001b[0;34m\u001b[0m\n\u001b[1;32m      7\u001b[0m \u001b[0mrnn_link_size\u001b[0m \u001b[0;34m=\u001b[0m \u001b[0;34m[\u001b[0m\u001b[0;36m13\u001b[0m\u001b[0;34m,\u001b[0m\u001b[0;36m13\u001b[0m\u001b[0;34m,\u001b[0m\u001b[0;36m9\u001b[0m\u001b[0;34m]\u001b[0m\u001b[0;34m\u001b[0m\u001b[0;34m\u001b[0m\u001b[0m\n\u001b[1;32m      8\u001b[0m \u001b[0;34m\u001b[0m\u001b[0m\n\u001b[0;32m----> 9\u001b[0;31m \u001b[0mencoder_input_channel\u001b[0m \u001b[0;34m=\u001b[0m \u001b[0minputs_channels\u001b[0m\u001b[0;34m\u001b[0m\u001b[0;34m\u001b[0m\u001b[0m\n\u001b[0m\u001b[1;32m     10\u001b[0m \u001b[0mencoder_downsample_channels\u001b[0m \u001b[0;34m=\u001b[0m \u001b[0;34m[\u001b[0m\u001b[0;36m2\u001b[0m\u001b[0;34m*\u001b[0m\u001b[0mc\u001b[0m\u001b[0;34m,\u001b[0m\u001b[0;36m32\u001b[0m\u001b[0;34m*\u001b[0m\u001b[0mc\u001b[0m\u001b[0;34m,\u001b[0m\u001b[0;36m96\u001b[0m\u001b[0;34m*\u001b[0m\u001b[0mc\u001b[0m\u001b[0;34m]\u001b[0m\u001b[0;34m\u001b[0m\u001b[0;34m\u001b[0m\u001b[0m\n\u001b[1;32m     11\u001b[0m \u001b[0mencoder_rnn_channels\u001b[0m \u001b[0;34m=\u001b[0m \u001b[0;34m[\u001b[0m\u001b[0;36m32\u001b[0m\u001b[0;34m*\u001b[0m\u001b[0mc\u001b[0m\u001b[0;34m,\u001b[0m\u001b[0;36m96\u001b[0m\u001b[0;34m*\u001b[0m\u001b[0mc\u001b[0m\u001b[0;34m,\u001b[0m\u001b[0;36m96\u001b[0m\u001b[0;34m*\u001b[0m\u001b[0mc\u001b[0m\u001b[0;34m]\u001b[0m\u001b[0;34m\u001b[0m\u001b[0;34m\u001b[0m\u001b[0m\n",
      "\u001b[0;31mNameError\u001b[0m: name 'inputs_channels' is not defined"
     ]
    }
   ],
   "source": [
    "# set the factor of cnn channels\n",
    "c = args.channel_factor\n",
    "\n",
    "## construct Traj GRU\n",
    "# initialize the parameters of the encoders and forecasters\n",
    "\n",
    "rnn_link_size = [13,13,9]\n",
    "\n",
    "encoder_input_channel = inputs_channels\n",
    "encoder_downsample_channels = [2*c,32*c,96*c]\n",
    "encoder_rnn_channels = [32*c,96*c,96*c]\n",
    "\n",
    "decoder_input_channel = 0\n",
    "decoder_upsample_channels = [96*c,96*c,4*c]\n",
    "decoder_rnn_channels = [96*c,96*c,32*c]\n",
    "\n",
    "if int(args.I_shape[0]/3) == args.F_shape[0]:\n",
    "    encoder_downsample_k = [5,4,4]\n",
    "    encoder_downsample_s = [3,2,2]\n",
    "    encoder_downsample_p = [1,1,1]\n",
    "elif args.I_shape[0] == args.F_shape[0]:\n",
    "    encoder_downsample_k = [3,4,4]\n",
    "    encoder_downsample_s = [1,2,2]\n",
    "    encoder_downsample_p = [1,1,1]\n",
    "\n",
    "encoder_rnn_k = [3,3,3]\n",
    "encoder_rnn_s = [1,1,1]\n",
    "encoder_rnn_p = [1,1,1]\n",
    "encoder_n_layers = 6\n",
    "\n",
    "decoder_upsample_k = [4,4,3]\n",
    "decoder_upsample_s = [2,2,1]\n",
    "decoder_upsample_p = [1,1,1]\n",
    "\n",
    "decoder_rnn_k = [3,3,3]\n",
    "decoder_rnn_s = [1,1,1]\n",
    "decoder_rnn_p = [1,1,1]\n",
    "decoder_n_layers = 6\n",
    "\n",
    "decoder_output = 1\n",
    "decoder_output_k = 3\n",
    "decoder_output_s = 1\n",
    "decoder_output_p = 1\n",
    "decoder_output_layers = 1"
   ]
  },
  {
   "cell_type": "code",
   "execution_count": 7,
   "metadata": {
    "ExecuteTime": {
     "end_time": "2019-03-12T05:49:40.008618Z",
     "start_time": "2019-03-12T05:49:40.006193Z"
    }
   },
   "outputs": [
    {
     "data": {
      "text/plain": [
       "[180, 180]"
      ]
     },
     "execution_count": 7,
     "metadata": {},
     "output_type": "execute_result"
    }
   ],
   "source": [
    "Net = model(n_encoders=input_frames, n_decoders=output_frames, rnn_link_size=rnn_link_size, \n",
    "            encoder_input_channel=encoder_input_channel, encoder_downsample_channels=encoder_downsample_channels,\n",
    "            encoder_rnn_channels=encoder_rnn_channels, encoder_downsample_k=encoder_downsample_k,\n",
    "            encoder_downsample_s=encoder_downsample_s, encoder_downsample_p=encoder_downsample_p, \n",
    "            encoder_rnn_k=encoder_rnn_k,encoder_rnn_s=encoder_rnn_s, encoder_rnn_p=encoder_rnn_p, \n",
    "            encoder_n_layers=encoder_n_layers, decoder_input_channel=decoder_input_channel, \n",
    "            decoder_upsample_channels=decoder_upsample_channels, decoder_rnn_channels=decoder_rnn_channels,\n",
    "            decoder_upsample_k=decoder_upsample_k, decoder_upsample_s=decoder_upsample_s, \n",
    "            decoder_upsample_p=decoder_upsample_p, decoder_rnn_k=decoder_rnn_k, decoder_rnn_s=decoder_rnn_s,\n",
    "            decoder_rnn_p=decoder_rnn_p, decoder_n_layers=decoder_n_layers, decoder_output=decoder_output, \n",
    "            decoder_output_k=decoder_output_k, decoder_output_s=decoder_output_s, \n",
    "            decoder_output_p=decoder_output_p, decoder_output_layers=decoder_output_layers, \n",
    "            batch_norm=args.batch_norm).to(device, dtype=torch.float))"
   ]
  },
  {
   "cell_type": "code",
   "execution_count": 8,
   "metadata": {
    "ExecuteTime": {
     "end_time": "2019-03-12T05:49:46.364391Z",
     "start_time": "2019-03-12T05:49:46.362190Z"
    }
   },
   "outputs": [
    {
     "data": {
      "text/plain": [
       "[60, 60]"
      ]
     },
     "execution_count": 8,
     "metadata": {},
     "output_type": "execute_result"
    }
   ],
   "source": [
    "args.F_shape"
   ]
  },
  {
   "cell_type": "code",
   "execution_count": null,
   "metadata": {},
   "outputs": [],
   "source": []
  }
 ],
 "metadata": {
  "kernelspec": {
   "display_name": "Python 3",
   "language": "python",
   "name": "python3"
  },
  "language_info": {
   "codemirror_mode": {
    "name": "ipython",
    "version": 3
   },
   "file_extension": ".py",
   "mimetype": "text/x-python",
   "name": "python",
   "nbconvert_exporter": "python",
   "pygments_lexer": "ipython3",
   "version": "3.7.1"
  },
  "varInspector": {
   "cols": {
    "lenName": 16,
    "lenType": 16,
    "lenVar": 40
   },
   "kernels_config": {
    "python": {
     "delete_cmd_postfix": "",
     "delete_cmd_prefix": "del ",
     "library": "var_list.py",
     "varRefreshCmd": "print(var_dic_list())"
    },
    "r": {
     "delete_cmd_postfix": ") ",
     "delete_cmd_prefix": "rm(",
     "library": "var_list.r",
     "varRefreshCmd": "cat(var_dic_list()) "
    }
   },
   "types_to_exclude": [
    "module",
    "function",
    "builtin_function_or_method",
    "instance",
    "_Feature"
   ],
   "window_display": false
  }
 },
 "nbformat": 4,
 "nbformat_minor": 2
}
