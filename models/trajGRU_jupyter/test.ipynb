{
 "cells": [
  {
   "cell_type": "code",
   "execution_count": 1,
   "metadata": {},
   "outputs": [],
   "source": [
    "import torch\n",
    "import torch.nn.functional as F\n",
    "from torch.cuda import max_memory_allocated\n",
    "if torch.cuda.is_available():\n",
    "    device = torch.device(0)\n",
    "\n",
    "def check_gpu_memory(device):\n",
    "    return '{:.3f} M'.format(max_memory_allocated(device)/1024/1024)"
   ]
  },
  {
   "cell_type": "code",
   "execution_count": 3,
   "metadata": {},
   "outputs": [
    {
     "name": "stdout",
     "output_type": "stream",
     "text": [
      "torch.Size([4, 9, 60, 60])\n",
      "torch.Size([4, 9, 5, 60, 60])\n",
      "1.814 M\n"
     ]
    }
   ],
   "source": [
    "a = torch.rand(4,9,60,60, device=device, dtype=torch.float)\n",
    "print(a.shape)\n",
    "a = a.unsqueeze_(2).expand(-1,-1,5,-1,-1)\n",
    "print(a.shape)\n",
    "print(check_gpu_memory(device=0))"
   ]
  },
  {
   "cell_type": "code",
   "execution_count": 4,
   "metadata": {},
   "outputs": [
    {
     "name": "stdout",
     "output_type": "stream",
     "text": [
      "torch.Size([4, 9, 60, 60])\n",
      "torch.Size([4, 9, 5, 60, 60])\n",
      "1643520\n"
     ]
    }
   ],
   "source": [
    "a = torch.rand(4,9,60,60, device=device, dtype=torch.float16)\n",
    "print(a.shape)\n",
    "a = a.unsqueeze_(2).expand(-1,-1,5,-1,-1)\n",
    "print(a.shape)\n",
    "print(torch.cuda.max_memory_allocated(device=0))"
   ]
  },
  {
   "cell_type": "code",
   "execution_count": 8,
   "metadata": {},
   "outputs": [
    {
     "data": {
      "text/plain": [
       "torch.Size([60, 60, 1])"
      ]
     },
     "execution_count": 8,
     "metadata": {},
     "output_type": "execute_result"
    }
   ],
   "source": [
    "grid_x, grid_y = torch.meshgrid([torch.arange(0,60),torch.arange(0,60)])\n",
    "grid_x[:,:,None]\n",
    "grid_y[:,:,None].shape"
   ]
  },
  {
   "cell_type": "code",
   "execution_count": 9,
   "metadata": {},
   "outputs": [
    {
     "data": {
      "text/plain": [
       "torch.Size([60, 60])"
      ]
     },
     "execution_count": 9,
     "metadata": {},
     "output_type": "execute_result"
    }
   ],
   "source": [
    "grid_x.shape"
   ]
  },
  {
   "cell_type": "code",
   "execution_count": 1,
   "metadata": {},
   "outputs": [
    {
     "name": "stderr",
     "output_type": "stream",
     "text": [
      "usage: ipykernel_launcher.py [-h] [--working-folder] [--radar-folder]\n",
      "                             [--radar-wrangled-data-folder] [--weather-folder]\n",
      "                             [--weather-wrangled-data-folder]\n",
      "                             [--ty-info-folder]\n",
      "                             [--ty-info-wrangled-data-folder]\n",
      "                             [--result-folder] [--params-folder] [--ty-list]\n",
      "                             [--able-cuda] [--gpu] [--dtype] [--max-epochs]\n",
      "                             [--batch-size] [--lr] [--lr-scheduler]\n",
      "                             [--weight-decay] [--clip] [--clip-max-norm]\n",
      "                             [--batch-norm] [--normalize-target]\n",
      "                             [--input-frames] [--input-with-grid]\n",
      "                             [--input-with-QPE] [--target-frames]\n",
      "                             [--channel-factor] [--I-x-l] [--I-x-h] [--I-y-l]\n",
      "                             [--I-y-h] [--F-x-l] [--F-x-h] [--F-y-l] [--F-y-h]\n",
      "                             [--O-x-l] [--O-x-h] [--O-y-l] [--O-y-h]\n",
      "                             [--weather-list]\n",
      "ipykernel_launcher.py: error: unrecognized arguments: -f /run/user/1000/jupyter/kernel-e1dd7a2e-317b-43b8-a049-e185ed653fe6.json\n"
     ]
    },
    {
     "ename": "SystemExit",
     "evalue": "2",
     "output_type": "error",
     "traceback": [
      "An exception has occurred, use %tb to see the full traceback.\n",
      "\u001b[0;31mSystemExit\u001b[0m\u001b[0;31m:\u001b[0m 2\n"
     ]
    },
    {
     "name": "stderr",
     "output_type": "stream",
     "text": [
      "/home/jack/anaconda3/lib/python3.7/site-packages/IPython/core/interactiveshell.py:3299: UserWarning: To exit: use 'exit', 'quit', or Ctrl-D.\n",
      "  warn(\"To exit: use 'exit', 'quit', or Ctrl-D.\", stacklevel=1)\n"
     ]
    }
   ],
   "source": [
    "from tools.datasetGRU import TyDataset, ToTensor, Normalize"
   ]
  },
  {
   "cell_type": "code",
   "execution_count": null,
   "metadata": {},
   "outputs": [],
   "source": []
  }
 ],
 "metadata": {
  "kernelspec": {
   "display_name": "Python 3",
   "language": "python",
   "name": "python3"
  },
  "language_info": {
   "codemirror_mode": {
    "name": "ipython",
    "version": 3
   },
   "file_extension": ".py",
   "mimetype": "text/x-python",
   "name": "python",
   "nbconvert_exporter": "python",
   "pygments_lexer": "ipython3",
   "version": "3.7.1"
  }
 },
 "nbformat": 4,
 "nbformat_minor": 2
}
