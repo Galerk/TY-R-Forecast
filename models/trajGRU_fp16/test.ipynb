{
 "cells": [
  {
   "cell_type": "code",
   "execution_count": 1,
   "metadata": {},
   "outputs": [],
   "source": [
    "import torch\n",
    "import torch.nn.functional as F\n",
    "from torch.cuda import max_memory_allocated\n",
    "if torch.cuda.is_available():\n",
    "    device = torch.device(0)\n",
    "\n",
    "def check_gpu_memory(device):\n",
    "    return '{:.3f} M'.format(max_memory_allocated(device)/1024/1024)"
   ]
  },
  {
   "cell_type": "code",
   "execution_count": 3,
   "metadata": {},
   "outputs": [
    {
     "name": "stdout",
     "output_type": "stream",
     "text": [
      "torch.Size([4, 9, 60, 60])\n",
      "torch.Size([4, 9, 5, 60, 60])\n",
      "1.814 M\n"
     ]
    }
   ],
   "source": [
    "a = torch.rand(4,9,60,60, device=device, dtype=torch.float)\n",
    "print(a.shape)\n",
    "a = a.unsqueeze_(2).expand(-1,-1,5,-1,-1)\n",
    "print(a.shape)\n",
    "print(check_gpu_memory(device=0))"
   ]
  },
  {
   "cell_type": "code",
   "execution_count": 4,
   "metadata": {},
   "outputs": [
    {
     "name": "stdout",
     "output_type": "stream",
     "text": [
      "torch.Size([4, 9, 60, 60])\n",
      "torch.Size([4, 9, 5, 60, 60])\n",
      "1643520\n"
     ]
    }
   ],
   "source": [
    "a = torch.rand(4,9,60,60, device=device, dtype=torch.float16)\n",
    "print(a.shape)\n",
    "a = a.unsqueeze_(2).expand(-1,-1,5,-1,-1)\n",
    "print(a.shape)\n",
    "print(torch.cuda.max_memory_allocated(device=0))"
   ]
  },
  {
   "cell_type": "code",
   "execution_count": 8,
   "metadata": {},
   "outputs": [
    {
     "data": {
      "text/plain": [
       "torch.Size([60, 60, 1])"
      ]
     },
     "execution_count": 8,
     "metadata": {},
     "output_type": "execute_result"
    }
   ],
   "source": [
    "grid_x, grid_y = torch.meshgrid([torch.arange(0,60),torch.arange(0,60)])\n",
    "grid_x[:,:,None]\n",
    "grid_y[:,:,None].shape"
   ]
  },
  {
   "cell_type": "code",
   "execution_count": 9,
   "metadata": {},
   "outputs": [
    {
     "data": {
      "text/plain": [
       "torch.Size([60, 60])"
      ]
     },
     "execution_count": 9,
     "metadata": {},
     "output_type": "execute_result"
    }
   ],
   "source": [
    "grid_x.shape"
   ]
  },
  {
   "cell_type": "code",
   "execution_count": 5,
   "metadata": {},
   "outputs": [
    {
     "data": {
      "text/plain": [
       "0"
      ]
     },
     "execution_count": 5,
     "metadata": {},
     "output_type": "execute_result"
    }
   ],
   "source": []
  },
  {
   "cell_type": "code",
   "execution_count": null,
   "metadata": {},
   "outputs": [],
   "source": []
  }
 ],
 "metadata": {
  "kernelspec": {
   "display_name": "Python 3",
   "language": "python",
   "name": "python3"
  },
  "language_info": {
   "codemirror_mode": {
    "name": "ipython",
    "version": 3
   },
   "file_extension": ".py",
   "mimetype": "text/x-python",
   "name": "python",
   "nbconvert_exporter": "python",
   "pygments_lexer": "ipython3",
   "version": "3.7.1"
  }
 },
 "nbformat": 4,
 "nbformat_minor": 2
}
