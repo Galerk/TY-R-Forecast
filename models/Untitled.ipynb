{
 "cells": [
  {
   "cell_type": "code",
   "execution_count": 1,
   "metadata": {},
   "outputs": [],
   "source": [
    "import os\n",
    "import torch\n",
    "import numpy as np\n",
    "from src.tools.easyparser import parser\n",
    "from src.operators.transformer import make_model, subsequent_mask\n",
    "\n",
    "settings = parser()\n",
    "# print(settings.initial_args)\n",
    "settings.initial_args.gpu = 0\n",
    "settings.initial_args.I_size = 150\n",
    "settings.initial_args.F_size = 150\n",
    "settings.initial_args.batch_size = 3\n",
    "settings.initial_args.max_epochs = 100\n",
    "args = settings.get_args()\n",
    "args.weight_decay = 0.2\n",
    "torch.cuda.set_device(args.gpu)\n",
    "np.random.seed(args.seed)\n",
    "torch.manual_seed(args.seed)\n",
    "torch.cuda.manual_seed(args.seed)"
   ]
  },
  {
   "cell_type": "code",
   "execution_count": 2,
   "metadata": {},
   "outputs": [],
   "source": [
    "param_dict = torch.load(os.path.join(args.params_folder, 'params_100.pt'))['model_state_dict']\n",
    "model = make_model(H=args.I_size, W=args.I_size, input_channel=1, d_channel=5, d_channel_ff=10, load_params=param_dict).to(device=args.device,dtype=args.value_dtype)"
   ]
  },
  {
   "cell_type": "code",
   "execution_count": 3,
   "metadata": {},
   "outputs": [],
   "source": [
    "from src.dataseters.GRUs import TyDataset,ToTensor\n",
    "from torchvision import transforms\n",
    "transform = transforms.Compose([ToTensor()])"
   ]
  },
  {
   "cell_type": "code",
   "execution_count": 4,
   "metadata": {},
   "outputs": [],
   "source": [
    "dataset = TyDataset(args=args,train=False,transform=transform)"
   ]
  },
  {
   "cell_type": "code",
   "execution_count": 5,
   "metadata": {},
   "outputs": [],
   "source": [
    "src = dataset[0]['inputs'].to(device=args.device,dtype=args.value_dtype).unsqueeze(0)\n",
    "tgt = dataset[0]['targets'].unsqueeze(0).unsqueeze(2).to(device=args.device,dtype=args.value_dtype)\n",
    "src_mask = torch.ones(1, src.shape[1]).to(device=args.device,dtype=args.value_dtype)\n",
    "tgt_mask = subsequent_mask(tgt.shape[1]).to(device=args.device,dtype=args.value_dtype)"
   ]
  },
  {
   "cell_type": "code",
   "execution_count": 6,
   "metadata": {},
   "outputs": [
    {
     "name": "stdout",
     "output_type": "stream",
     "text": [
      "torch.Size([1, 8, 6, 6])\n",
      "> /home/jack/ssd/01_ty_research/10_github/TY-R-Forecast/models/src/operators/transformer.py(157)attention()\n",
      "-> if mask is not None:\n"
     ]
    },
    {
     "name": "stdin",
     "output_type": "stream",
     "text": [
      "(Pdb)  l.\n"
     ]
    },
    {
     "name": "stdout",
     "output_type": "stream",
     "text": [
      "152  \t    n_batch, h, T2, d_k = key.shape\n",
      "153  \t    # n_batch x T x T\n",
      "154  \t    score = torch.matmul(query, key.transpose(-2, -1)) / math.sqrt(d_k)\n",
      "155  \t    print(score.shape)\n",
      "156  \t    breakpoint()\n",
      "157  ->\t    if mask is not None:\n",
      "158  \t        score = score.masked_fill(mask==0, 1e-9)\n",
      "159  \t    p_attn = F.softmax(score, dim=-1)\n",
      "160  \t    # p_attn shape: n_batch x h x T x T\n",
      "161  \t    if dropout is not None:\n",
      "162  \t        p_attn = dropout(p_attn)\n"
     ]
    },
    {
     "name": "stdin",
     "output_type": "stream",
     "text": [
      "(Pdb)  c\n"
     ]
    },
    {
     "name": "stdout",
     "output_type": "stream",
     "text": [
      "torch.Size([1, 8, 6, 6])\n",
      "> /home/jack/ssd/01_ty_research/10_github/TY-R-Forecast/models/src/operators/transformer.py(157)attention()\n",
      "-> if mask is not None:\n"
     ]
    },
    {
     "name": "stdin",
     "output_type": "stream",
     "text": [
      "(Pdb)  c\n"
     ]
    },
    {
     "name": "stdout",
     "output_type": "stream",
     "text": [
      "torch.Size([1, 8, 6, 6])\n",
      "> /home/jack/ssd/01_ty_research/10_github/TY-R-Forecast/models/src/operators/transformer.py(157)attention()\n",
      "-> if mask is not None:\n"
     ]
    },
    {
     "name": "stdin",
     "output_type": "stream",
     "text": [
      "(Pdb)  c\n"
     ]
    },
    {
     "name": "stdout",
     "output_type": "stream",
     "text": [
      "torch.Size([1, 8, 6, 6])\n",
      "> /home/jack/ssd/01_ty_research/10_github/TY-R-Forecast/models/src/operators/transformer.py(157)attention()\n",
      "-> if mask is not None:\n"
     ]
    },
    {
     "name": "stdin",
     "output_type": "stream",
     "text": [
      "(Pdb)  \n",
      "(Pdb)  c\n"
     ]
    },
    {
     "name": "stdout",
     "output_type": "stream",
     "text": [
      "torch.Size([1, 8, 6, 6])\n",
      "> /home/jack/ssd/01_ty_research/10_github/TY-R-Forecast/models/src/operators/transformer.py(157)attention()\n",
      "-> if mask is not None:\n"
     ]
    },
    {
     "name": "stdin",
     "output_type": "stream",
     "text": [
      "(Pdb)  c\n"
     ]
    },
    {
     "name": "stdout",
     "output_type": "stream",
     "text": [
      "torch.Size([1, 8, 6, 6])\n",
      "> /home/jack/ssd/01_ty_research/10_github/TY-R-Forecast/models/src/operators/transformer.py(157)attention()\n",
      "-> if mask is not None:\n"
     ]
    },
    {
     "name": "stdin",
     "output_type": "stream",
     "text": [
      "(Pdb)  c\n"
     ]
    },
    {
     "name": "stdout",
     "output_type": "stream",
     "text": [
      "torch.Size([1, 8, 18, 18])\n",
      "> /home/jack/ssd/01_ty_research/10_github/TY-R-Forecast/models/src/operators/transformer.py(157)attention()\n",
      "-> if mask is not None:\n"
     ]
    },
    {
     "name": "stdin",
     "output_type": "stream",
     "text": [
      "(Pdb)  l.\n"
     ]
    },
    {
     "name": "stdout",
     "output_type": "stream",
     "text": [
      "152  \t    n_batch, h, T2, d_k = key.shape\n",
      "153  \t    # n_batch x T x T\n",
      "154  \t    score = torch.matmul(query, key.transpose(-2, -1)) / math.sqrt(d_k)\n",
      "155  \t    print(score.shape)\n",
      "156  \t    breakpoint()\n",
      "157  ->\t    if mask is not None:\n",
      "158  \t        score = score.masked_fill(mask==0, 1e-9)\n",
      "159  \t    p_attn = F.softmax(score, dim=-1)\n",
      "160  \t    # p_attn shape: n_batch x h x T x T\n",
      "161  \t    if dropout is not None:\n",
      "162  \t        p_attn = dropout(p_attn)\n"
     ]
    },
    {
     "name": "stdin",
     "output_type": "stream",
     "text": [
      "(Pdb)  p score[0,0]\n"
     ]
    },
    {
     "name": "stdout",
     "output_type": "stream",
     "text": [
      "tensor([[-1.6658e-01, -2.4897e-01, -1.1928e-01,  4.5163e-01,  1.1300e+00,\n",
      "          1.0923e+00, -1.4398e-01, -9.3494e-01, -6.8959e-01, -5.6249e-01,\n",
      "         -5.8341e-01, -9.9568e-01, -1.1639e+00, -1.8615e+00, -2.1374e+00,\n",
      "         -1.3935e+00, -3.8618e-01, -6.5933e-01],\n",
      "        [-2.0513e-01,  2.4118e-01,  4.6256e-01,  1.1423e+00,  1.9046e+00,\n",
      "          1.7946e+00,  4.9473e-01, -3.7523e-01, -1.2520e-01, -1.7813e-01,\n",
      "         -1.6480e-01, -5.7532e-01, -9.0083e-01, -1.6312e+00, -2.1359e+00,\n",
      "         -1.2659e+00, -1.6360e-01, -3.5007e-01],\n",
      "        [-9.5277e-01, -6.2095e-01,  1.1959e-01,  9.0331e-01,  1.8204e+00,\n",
      "          1.9465e+00,  1.0141e+00,  1.4439e-01,  2.4691e-01,  9.1713e-02,\n",
      "          1.9561e-01, -1.0572e-01, -5.4899e-01, -1.5434e+00, -2.4740e+00,\n",
      "         -1.5202e+00, -3.2618e-01, -5.8196e-01],\n",
      "        [-1.0148e+00, -5.8000e-01,  1.3200e-01,  1.4994e+00,  2.4950e+00,\n",
      "          2.7725e+00,  1.9046e+00,  1.2636e+00,  1.2983e+00,  1.0827e+00,\n",
      "          1.2442e+00,  8.4465e-01,  6.0412e-01, -2.7932e-01, -1.3467e+00,\n",
      "         -4.1614e-01,  6.0233e-01,  4.5151e-01],\n",
      "        [-1.3835e+00, -9.1722e-01, -2.1452e-01,  1.1374e+00,  3.1122e+00,\n",
      "          3.7448e+00,  2.9265e+00,  2.1196e+00,  2.2718e+00,  1.9513e+00,\n",
      "          2.1098e+00,  1.4855e+00,  1.3638e+00,  7.7906e-01, -2.5075e-01,\n",
      "          4.5080e-01,  1.3676e+00,  1.1686e+00],\n",
      "        [-3.0439e+00, -2.8640e+00, -1.9901e+00, -6.1977e-01,  1.9141e+00,\n",
      "          4.2438e+00,  3.9121e+00,  2.8104e+00,  2.9373e+00,  2.7326e+00,\n",
      "          3.4387e+00,  2.5646e+00,  2.0985e+00,  1.3138e+00, -1.5410e-01,\n",
      "          5.4451e-01,  1.5315e+00,  1.0430e+00],\n",
      "        [-4.5586e+00, -4.4853e+00, -3.3789e+00, -1.8528e+00,  7.7936e-01,\n",
      "          3.6217e+00,  4.4842e+00,  3.5750e+00,  3.4590e+00,  3.1258e+00,\n",
      "          4.0513e+00,  3.3953e+00,  2.7334e+00,  1.6558e+00, -2.2462e-01,\n",
      "          6.7481e-01,  1.7859e+00,  1.2586e+00],\n",
      "        [-5.3401e+00, -5.3263e+00, -4.1979e+00, -2.4709e+00,  4.7734e-02,\n",
      "          2.5793e+00,  3.8215e+00,  4.0860e+00,  4.0738e+00,  3.5312e+00,\n",
      "          4.1911e+00,  3.7952e+00,  3.0939e+00,  1.7760e+00,  1.1413e-01,\n",
      "          1.2173e+00,  2.3856e+00,  1.9008e+00],\n",
      "        [-6.1413e+00, -6.1859e+00, -5.1164e+00, -3.2860e+00, -7.2370e-01,\n",
      "          1.6594e+00,  2.6438e+00,  3.1253e+00,  3.8031e+00,  3.2002e+00,\n",
      "          3.6523e+00,  3.1698e+00,  2.5522e+00,  1.3435e+00, -1.7898e-01,\n",
      "          9.0005e-01,  2.0066e+00,  1.4478e+00],\n",
      "        [-6.1783e+00, -6.3061e+00, -5.2693e+00, -3.4446e+00, -9.9424e-01,\n",
      "          1.2926e+00,  2.1400e+00,  2.5010e+00,  3.1684e+00,  3.2880e+00,\n",
      "          3.7033e+00,  3.0481e+00,  2.4037e+00,  1.1207e+00,  8.0800e-02,\n",
      "          1.1397e+00,  2.2398e+00,  1.5391e+00],\n",
      "        [-6.6400e+00, -6.7408e+00, -5.6921e+00, -3.7493e+00, -1.3552e+00,\n",
      "          1.5128e+00,  2.5891e+00,  2.7811e+00,  3.2064e+00,  3.2613e+00,\n",
      "          4.6829e+00,  3.9100e+00,  3.1584e+00,  1.7314e+00,  2.6151e-01,\n",
      "          1.2965e+00,  2.4435e+00,  1.7917e+00],\n",
      "        [-6.4606e+00, -6.5472e+00, -5.6069e+00, -3.7733e+00, -1.4153e+00,\n",
      "          1.3189e+00,  2.4254e+00,  2.7284e+00,  2.9361e+00,  2.9020e+00,\n",
      "          4.2574e+00,  4.1536e+00,  3.4700e+00,  1.9647e+00,  3.5039e-01,\n",
      "          1.3658e+00,  2.5715e+00,  1.9360e+00],\n",
      "        [-6.1079e+00, -6.2396e+00, -5.4416e+00, -3.5542e+00, -1.1480e+00,\n",
      "          1.2768e+00,  2.0616e+00,  2.4035e+00,  2.7597e+00,  2.6720e+00,\n",
      "          3.8305e+00,  3.8505e+00,  3.8569e+00,  2.6351e+00,  8.1219e-01,\n",
      "          1.5505e+00,  2.6257e+00,  2.1038e+00],\n",
      "        [-6.7700e+00, -6.9889e+00, -6.3873e+00, -4.4723e+00, -1.9417e+00,\n",
      "          1.5766e-01,  6.3472e-01,  8.5876e-01,  1.5294e+00,  1.3351e+00,\n",
      "          2.2694e+00,  2.1866e+00,  2.3944e+00,  2.1112e+00,  2.9948e-01,\n",
      "          7.7954e-01,  1.7375e+00,  1.1952e+00],\n",
      "        [-6.3354e+00, -6.5646e+00, -6.0335e+00, -4.3393e+00, -1.8904e+00,\n",
      "         -3.8130e-01, -3.2606e-01, -1.2877e-03,  9.9167e-01,  1.1248e+00,\n",
      "          1.4918e+00,  1.2556e+00,  1.0926e+00,  8.8604e-01,  9.1323e-01,\n",
      "          1.3496e+00,  2.1610e+00,  1.3506e+00],\n",
      "        [-6.5496e+00, -6.7153e+00, -6.1175e+00, -4.3190e+00, -2.0199e+00,\n",
      "         -3.7998e-01, -1.5338e-01,  3.6633e-01,  1.1824e+00,  1.2404e+00,\n",
      "          1.5084e+00,  1.3587e+00,  9.9906e-01,  5.1188e-01,  5.2697e-01,\n",
      "          1.6538e+00,  2.5531e+00,  1.6706e+00],\n",
      "        [-6.1337e+00, -6.1859e+00, -5.5910e+00, -3.8761e+00, -1.6356e+00,\n",
      "          7.4678e-02,  4.2134e-01,  9.8291e-01,  1.6694e+00,  1.7184e+00,\n",
      "          2.0246e+00,  1.9225e+00,  1.5143e+00,  1.0077e+00,  9.4787e-01,\n",
      "          2.1338e+00,  3.3430e+00,  2.4398e+00],\n",
      "        [-6.1633e+00, -6.4127e+00, -5.7308e+00, -4.0284e+00, -1.7370e+00,\n",
      "         -3.9513e-01, -1.2495e-01,  5.3290e-01,  1.2173e+00,  1.2528e+00,\n",
      "          1.4725e+00,  1.5266e+00,  1.1039e+00,  5.3836e-01,  2.3322e-01,\n",
      "          1.3342e+00,  2.5699e+00,  2.1512e+00]], device='cuda:0',\n",
      "       grad_fn=<SelectBackward>)\n"
     ]
    },
    {
     "name": "stdin",
     "output_type": "stream",
     "text": [
      "(Pdb)  l.\n"
     ]
    },
    {
     "name": "stdout",
     "output_type": "stream",
     "text": [
      "152  \t    n_batch, h, T2, d_k = key.shape\n",
      "153  \t    # n_batch x T x T\n",
      "154  \t    score = torch.matmul(query, key.transpose(-2, -1)) / math.sqrt(d_k)\n",
      "155  \t    print(score.shape)\n",
      "156  \t    breakpoint()\n",
      "157  ->\t    if mask is not None:\n",
      "158  \t        score = score.masked_fill(mask==0, 1e-9)\n",
      "159  \t    p_attn = F.softmax(score, dim=-1)\n",
      "160  \t    # p_attn shape: n_batch x h x T x T\n",
      "161  \t    if dropout is not None:\n",
      "162  \t        p_attn = dropout(p_attn)\n"
     ]
    },
    {
     "name": "stdin",
     "output_type": "stream",
     "text": [
      "(Pdb)  n\n"
     ]
    },
    {
     "name": "stdout",
     "output_type": "stream",
     "text": [
      "> /home/jack/ssd/01_ty_research/10_github/TY-R-Forecast/models/src/operators/transformer.py(158)attention()\n",
      "-> score = score.masked_fill(mask==0, 1e-9)\n"
     ]
    },
    {
     "name": "stdin",
     "output_type": "stream",
     "text": [
      "(Pdb)  n\n"
     ]
    },
    {
     "name": "stdout",
     "output_type": "stream",
     "text": [
      "> /home/jack/ssd/01_ty_research/10_github/TY-R-Forecast/models/src/operators/transformer.py(159)attention()\n",
      "-> p_attn = F.softmax(score, dim=-1)\n"
     ]
    },
    {
     "name": "stdin",
     "output_type": "stream",
     "text": [
      "(Pdb)  p score[0,0]\n"
     ]
    },
    {
     "name": "stdout",
     "output_type": "stream",
     "text": [
      "tensor([[-1.6658e-01,  1.0000e-09,  1.0000e-09,  1.0000e-09,  1.0000e-09,\n",
      "          1.0000e-09,  1.0000e-09,  1.0000e-09,  1.0000e-09,  1.0000e-09,\n",
      "          1.0000e-09,  1.0000e-09,  1.0000e-09,  1.0000e-09,  1.0000e-09,\n",
      "          1.0000e-09,  1.0000e-09,  1.0000e-09],\n",
      "        [-2.0513e-01,  2.4118e-01,  1.0000e-09,  1.0000e-09,  1.0000e-09,\n",
      "          1.0000e-09,  1.0000e-09,  1.0000e-09,  1.0000e-09,  1.0000e-09,\n",
      "          1.0000e-09,  1.0000e-09,  1.0000e-09,  1.0000e-09,  1.0000e-09,\n",
      "          1.0000e-09,  1.0000e-09,  1.0000e-09],\n",
      "        [-9.5277e-01, -6.2095e-01,  1.1959e-01,  1.0000e-09,  1.0000e-09,\n",
      "          1.0000e-09,  1.0000e-09,  1.0000e-09,  1.0000e-09,  1.0000e-09,\n",
      "          1.0000e-09,  1.0000e-09,  1.0000e-09,  1.0000e-09,  1.0000e-09,\n",
      "          1.0000e-09,  1.0000e-09,  1.0000e-09],\n",
      "        [-1.0148e+00, -5.8000e-01,  1.3200e-01,  1.4994e+00,  1.0000e-09,\n",
      "          1.0000e-09,  1.0000e-09,  1.0000e-09,  1.0000e-09,  1.0000e-09,\n",
      "          1.0000e-09,  1.0000e-09,  1.0000e-09,  1.0000e-09,  1.0000e-09,\n",
      "          1.0000e-09,  1.0000e-09,  1.0000e-09],\n",
      "        [-1.3835e+00, -9.1722e-01, -2.1452e-01,  1.1374e+00,  3.1122e+00,\n",
      "          1.0000e-09,  1.0000e-09,  1.0000e-09,  1.0000e-09,  1.0000e-09,\n",
      "          1.0000e-09,  1.0000e-09,  1.0000e-09,  1.0000e-09,  1.0000e-09,\n",
      "          1.0000e-09,  1.0000e-09,  1.0000e-09],\n",
      "        [-3.0439e+00, -2.8640e+00, -1.9901e+00, -6.1977e-01,  1.9141e+00,\n",
      "          4.2438e+00,  1.0000e-09,  1.0000e-09,  1.0000e-09,  1.0000e-09,\n",
      "          1.0000e-09,  1.0000e-09,  1.0000e-09,  1.0000e-09,  1.0000e-09,\n",
      "          1.0000e-09,  1.0000e-09,  1.0000e-09],\n",
      "        [-4.5586e+00, -4.4853e+00, -3.3789e+00, -1.8528e+00,  7.7936e-01,\n",
      "          3.6217e+00,  4.4842e+00,  1.0000e-09,  1.0000e-09,  1.0000e-09,\n",
      "          1.0000e-09,  1.0000e-09,  1.0000e-09,  1.0000e-09,  1.0000e-09,\n",
      "          1.0000e-09,  1.0000e-09,  1.0000e-09],\n",
      "        [-5.3401e+00, -5.3263e+00, -4.1979e+00, -2.4709e+00,  4.7734e-02,\n",
      "          2.5793e+00,  3.8215e+00,  4.0860e+00,  1.0000e-09,  1.0000e-09,\n",
      "          1.0000e-09,  1.0000e-09,  1.0000e-09,  1.0000e-09,  1.0000e-09,\n",
      "          1.0000e-09,  1.0000e-09,  1.0000e-09],\n",
      "        [-6.1413e+00, -6.1859e+00, -5.1164e+00, -3.2860e+00, -7.2370e-01,\n",
      "          1.6594e+00,  2.6438e+00,  3.1253e+00,  3.8031e+00,  1.0000e-09,\n",
      "          1.0000e-09,  1.0000e-09,  1.0000e-09,  1.0000e-09,  1.0000e-09,\n",
      "          1.0000e-09,  1.0000e-09,  1.0000e-09],\n",
      "        [-6.1783e+00, -6.3061e+00, -5.2693e+00, -3.4446e+00, -9.9424e-01,\n",
      "          1.2926e+00,  2.1400e+00,  2.5010e+00,  3.1684e+00,  3.2880e+00,\n",
      "          1.0000e-09,  1.0000e-09,  1.0000e-09,  1.0000e-09,  1.0000e-09,\n",
      "          1.0000e-09,  1.0000e-09,  1.0000e-09],\n",
      "        [-6.6400e+00, -6.7408e+00, -5.6921e+00, -3.7493e+00, -1.3552e+00,\n",
      "          1.5128e+00,  2.5891e+00,  2.7811e+00,  3.2064e+00,  3.2613e+00,\n",
      "          4.6829e+00,  1.0000e-09,  1.0000e-09,  1.0000e-09,  1.0000e-09,\n",
      "          1.0000e-09,  1.0000e-09,  1.0000e-09],\n",
      "        [-6.4606e+00, -6.5472e+00, -5.6069e+00, -3.7733e+00, -1.4153e+00,\n",
      "          1.3189e+00,  2.4254e+00,  2.7284e+00,  2.9361e+00,  2.9020e+00,\n",
      "          4.2574e+00,  4.1536e+00,  1.0000e-09,  1.0000e-09,  1.0000e-09,\n",
      "          1.0000e-09,  1.0000e-09,  1.0000e-09],\n",
      "        [-6.1079e+00, -6.2396e+00, -5.4416e+00, -3.5542e+00, -1.1480e+00,\n",
      "          1.2768e+00,  2.0616e+00,  2.4035e+00,  2.7597e+00,  2.6720e+00,\n",
      "          3.8305e+00,  3.8505e+00,  3.8569e+00,  1.0000e-09,  1.0000e-09,\n",
      "          1.0000e-09,  1.0000e-09,  1.0000e-09],\n",
      "        [-6.7700e+00, -6.9889e+00, -6.3873e+00, -4.4723e+00, -1.9417e+00,\n",
      "          1.5766e-01,  6.3472e-01,  8.5876e-01,  1.5294e+00,  1.3351e+00,\n",
      "          2.2694e+00,  2.1866e+00,  2.3944e+00,  2.1112e+00,  1.0000e-09,\n",
      "          1.0000e-09,  1.0000e-09,  1.0000e-09],\n",
      "        [-6.3354e+00, -6.5646e+00, -6.0335e+00, -4.3393e+00, -1.8904e+00,\n",
      "         -3.8130e-01, -3.2606e-01, -1.2877e-03,  9.9167e-01,  1.1248e+00,\n",
      "          1.4918e+00,  1.2556e+00,  1.0926e+00,  8.8604e-01,  9.1323e-01,\n",
      "          1.0000e-09,  1.0000e-09,  1.0000e-09],\n",
      "        [-6.5496e+00, -6.7153e+00, -6.1175e+00, -4.3190e+00, -2.0199e+00,\n",
      "         -3.7998e-01, -1.5338e-01,  3.6633e-01,  1.1824e+00,  1.2404e+00,\n",
      "          1.5084e+00,  1.3587e+00,  9.9906e-01,  5.1188e-01,  5.2697e-01,\n",
      "          1.6538e+00,  1.0000e-09,  1.0000e-09],\n",
      "        [-6.1337e+00, -6.1859e+00, -5.5910e+00, -3.8761e+00, -1.6356e+00,\n",
      "          7.4678e-02,  4.2134e-01,  9.8291e-01,  1.6694e+00,  1.7184e+00,\n",
      "          2.0246e+00,  1.9225e+00,  1.5143e+00,  1.0077e+00,  9.4787e-01,\n",
      "          2.1338e+00,  3.3430e+00,  1.0000e-09],\n",
      "        [-6.1633e+00, -6.4127e+00, -5.7308e+00, -4.0284e+00, -1.7370e+00,\n",
      "         -3.9513e-01, -1.2495e-01,  5.3290e-01,  1.2173e+00,  1.2528e+00,\n",
      "          1.4725e+00,  1.5266e+00,  1.1039e+00,  5.3836e-01,  2.3322e-01,\n",
      "          1.3342e+00,  2.5699e+00,  2.1512e+00]], device='cuda:0',\n",
      "       grad_fn=<SelectBackward>)\n"
     ]
    },
    {
     "name": "stdin",
     "output_type": "stream",
     "text": [
      "(Pdb)  q\n"
     ]
    },
    {
     "ename": "BdbQuit",
     "evalue": "",
     "output_type": "error",
     "traceback": [
      "\u001b[0;31m---------------------------------------------------------------------------\u001b[0m",
      "\u001b[0;31mBdbQuit\u001b[0m                                   Traceback (most recent call last)",
      "\u001b[0;32m<ipython-input-6-4c42e518cbf4>\u001b[0m in \u001b[0;36m<module>\u001b[0;34m\u001b[0m\n\u001b[0;32m----> 1\u001b[0;31m \u001b[0mmodel\u001b[0m\u001b[0;34m(\u001b[0m\u001b[0msrc\u001b[0m\u001b[0;34m,\u001b[0m\u001b[0mtgt\u001b[0m\u001b[0;34m,\u001b[0m\u001b[0msrc_mask\u001b[0m\u001b[0;34m,\u001b[0m\u001b[0mtgt_mask\u001b[0m\u001b[0;34m)\u001b[0m\u001b[0;34m\u001b[0m\u001b[0;34m\u001b[0m\u001b[0m\n\u001b[0m",
      "\u001b[0;32m~/miniconda3/lib/python3.7/site-packages/torch/nn/modules/module.py\u001b[0m in \u001b[0;36m__call__\u001b[0;34m(self, *input, **kwargs)\u001b[0m\n\u001b[1;32m    545\u001b[0m             \u001b[0mresult\u001b[0m \u001b[0;34m=\u001b[0m \u001b[0mself\u001b[0m\u001b[0;34m.\u001b[0m\u001b[0m_slow_forward\u001b[0m\u001b[0;34m(\u001b[0m\u001b[0;34m*\u001b[0m\u001b[0minput\u001b[0m\u001b[0;34m,\u001b[0m \u001b[0;34m**\u001b[0m\u001b[0mkwargs\u001b[0m\u001b[0;34m)\u001b[0m\u001b[0;34m\u001b[0m\u001b[0;34m\u001b[0m\u001b[0m\n\u001b[1;32m    546\u001b[0m         \u001b[0;32melse\u001b[0m\u001b[0;34m:\u001b[0m\u001b[0;34m\u001b[0m\u001b[0;34m\u001b[0m\u001b[0m\n\u001b[0;32m--> 547\u001b[0;31m             \u001b[0mresult\u001b[0m \u001b[0;34m=\u001b[0m \u001b[0mself\u001b[0m\u001b[0;34m.\u001b[0m\u001b[0mforward\u001b[0m\u001b[0;34m(\u001b[0m\u001b[0;34m*\u001b[0m\u001b[0minput\u001b[0m\u001b[0;34m,\u001b[0m \u001b[0;34m**\u001b[0m\u001b[0mkwargs\u001b[0m\u001b[0;34m)\u001b[0m\u001b[0;34m\u001b[0m\u001b[0;34m\u001b[0m\u001b[0m\n\u001b[0m\u001b[1;32m    548\u001b[0m         \u001b[0;32mfor\u001b[0m \u001b[0mhook\u001b[0m \u001b[0;32min\u001b[0m \u001b[0mself\u001b[0m\u001b[0;34m.\u001b[0m\u001b[0m_forward_hooks\u001b[0m\u001b[0;34m.\u001b[0m\u001b[0mvalues\u001b[0m\u001b[0;34m(\u001b[0m\u001b[0;34m)\u001b[0m\u001b[0;34m:\u001b[0m\u001b[0;34m\u001b[0m\u001b[0;34m\u001b[0m\u001b[0m\n\u001b[1;32m    549\u001b[0m             \u001b[0mhook_result\u001b[0m \u001b[0;34m=\u001b[0m \u001b[0mhook\u001b[0m\u001b[0;34m(\u001b[0m\u001b[0mself\u001b[0m\u001b[0;34m,\u001b[0m \u001b[0minput\u001b[0m\u001b[0;34m,\u001b[0m \u001b[0mresult\u001b[0m\u001b[0;34m)\u001b[0m\u001b[0;34m\u001b[0m\u001b[0;34m\u001b[0m\u001b[0m\n",
      "\u001b[0;32m~/ssd/01_ty_research/10_github/TY-R-Forecast/models/src/operators/transformer.py\u001b[0m in \u001b[0;36mforward\u001b[0;34m(self, src, trg, src_mask, trg_mask)\u001b[0m\n\u001b[1;32m     42\u001b[0m     \u001b[0;32mdef\u001b[0m \u001b[0mforward\u001b[0m\u001b[0;34m(\u001b[0m\u001b[0mself\u001b[0m\u001b[0;34m,\u001b[0m \u001b[0msrc\u001b[0m\u001b[0;34m,\u001b[0m \u001b[0mtrg\u001b[0m\u001b[0;34m,\u001b[0m \u001b[0msrc_mask\u001b[0m\u001b[0;34m,\u001b[0m \u001b[0mtrg_mask\u001b[0m\u001b[0;34m)\u001b[0m\u001b[0;34m:\u001b[0m\u001b[0;34m\u001b[0m\u001b[0;34m\u001b[0m\u001b[0m\n\u001b[1;32m     43\u001b[0m         \u001b[0;34m''' Take in and process masked source and target images. '''\u001b[0m\u001b[0;34m\u001b[0m\u001b[0;34m\u001b[0m\u001b[0m\n\u001b[0;32m---> 44\u001b[0;31m         \u001b[0;32mreturn\u001b[0m \u001b[0mself\u001b[0m\u001b[0;34m.\u001b[0m\u001b[0mgenerator\u001b[0m\u001b[0;34m(\u001b[0m\u001b[0mself\u001b[0m\u001b[0;34m.\u001b[0m\u001b[0mdecode\u001b[0m\u001b[0;34m(\u001b[0m\u001b[0mself\u001b[0m\u001b[0;34m.\u001b[0m\u001b[0mencode\u001b[0m\u001b[0;34m(\u001b[0m\u001b[0msrc\u001b[0m\u001b[0;34m,\u001b[0m \u001b[0msrc_mask\u001b[0m\u001b[0;34m)\u001b[0m\u001b[0;34m,\u001b[0m \u001b[0msrc_mask\u001b[0m\u001b[0;34m,\u001b[0m \u001b[0mtrg\u001b[0m\u001b[0;34m,\u001b[0m \u001b[0mtrg_mask\u001b[0m\u001b[0;34m)\u001b[0m\u001b[0;34m)\u001b[0m\u001b[0;34m\u001b[0m\u001b[0;34m\u001b[0m\u001b[0m\n\u001b[0m\u001b[1;32m     45\u001b[0m \u001b[0;34m\u001b[0m\u001b[0m\n\u001b[1;32m     46\u001b[0m     \u001b[0;32mdef\u001b[0m \u001b[0mencode\u001b[0m\u001b[0;34m(\u001b[0m\u001b[0mself\u001b[0m\u001b[0;34m,\u001b[0m \u001b[0msrc\u001b[0m\u001b[0;34m,\u001b[0m \u001b[0msrc_mask\u001b[0m\u001b[0;34m)\u001b[0m\u001b[0;34m:\u001b[0m\u001b[0;34m\u001b[0m\u001b[0;34m\u001b[0m\u001b[0m\n",
      "\u001b[0;32m~/ssd/01_ty_research/10_github/TY-R-Forecast/models/src/operators/transformer.py\u001b[0m in \u001b[0;36mdecode\u001b[0;34m(self, memory, src_mask, trg, trg_mask)\u001b[0m\n\u001b[1;32m     50\u001b[0m         \u001b[0;32mif\u001b[0m \u001b[0mlen\u001b[0m\u001b[0;34m(\u001b[0m\u001b[0mtrg\u001b[0m\u001b[0;34m)\u001b[0m \u001b[0;34m==\u001b[0m \u001b[0;36m0\u001b[0m\u001b[0;34m:\u001b[0m\u001b[0;34m\u001b[0m\u001b[0;34m\u001b[0m\u001b[0m\n\u001b[1;32m     51\u001b[0m             \u001b[0mtrg\u001b[0m \u001b[0;34m=\u001b[0m \u001b[0;32mNone\u001b[0m\u001b[0;34m\u001b[0m\u001b[0;34m\u001b[0m\u001b[0m\n\u001b[0;32m---> 52\u001b[0;31m         \u001b[0;32mreturn\u001b[0m \u001b[0mself\u001b[0m\u001b[0;34m.\u001b[0m\u001b[0mdecoder\u001b[0m\u001b[0;34m(\u001b[0m\u001b[0mself\u001b[0m\u001b[0;34m.\u001b[0m\u001b[0mtrg_net\u001b[0m\u001b[0;34m(\u001b[0m\u001b[0mtrg\u001b[0m\u001b[0;34m)\u001b[0m\u001b[0;34m,\u001b[0m \u001b[0mmemory\u001b[0m\u001b[0;34m,\u001b[0m \u001b[0msrc_mask\u001b[0m\u001b[0;34m,\u001b[0m \u001b[0mtrg_mask\u001b[0m\u001b[0;34m)\u001b[0m\u001b[0;34m\u001b[0m\u001b[0;34m\u001b[0m\u001b[0m\n\u001b[0m\u001b[1;32m     53\u001b[0m \u001b[0;34m\u001b[0m\u001b[0m\n\u001b[1;32m     54\u001b[0m     \u001b[0;32mdef\u001b[0m \u001b[0minfer\u001b[0m\u001b[0;34m(\u001b[0m\u001b[0mself\u001b[0m\u001b[0;34m,\u001b[0m \u001b[0msrc\u001b[0m\u001b[0;34m,\u001b[0m \u001b[0msrc_mask\u001b[0m\u001b[0;34m,\u001b[0m \u001b[0mtrg_mask\u001b[0m\u001b[0;34m)\u001b[0m\u001b[0;34m:\u001b[0m\u001b[0;34m\u001b[0m\u001b[0;34m\u001b[0m\u001b[0m\n",
      "\u001b[0;32m~/miniconda3/lib/python3.7/site-packages/torch/nn/modules/module.py\u001b[0m in \u001b[0;36m__call__\u001b[0;34m(self, *input, **kwargs)\u001b[0m\n\u001b[1;32m    545\u001b[0m             \u001b[0mresult\u001b[0m \u001b[0;34m=\u001b[0m \u001b[0mself\u001b[0m\u001b[0;34m.\u001b[0m\u001b[0m_slow_forward\u001b[0m\u001b[0;34m(\u001b[0m\u001b[0;34m*\u001b[0m\u001b[0minput\u001b[0m\u001b[0;34m,\u001b[0m \u001b[0;34m**\u001b[0m\u001b[0mkwargs\u001b[0m\u001b[0;34m)\u001b[0m\u001b[0;34m\u001b[0m\u001b[0;34m\u001b[0m\u001b[0m\n\u001b[1;32m    546\u001b[0m         \u001b[0;32melse\u001b[0m\u001b[0;34m:\u001b[0m\u001b[0;34m\u001b[0m\u001b[0;34m\u001b[0m\u001b[0m\n\u001b[0;32m--> 547\u001b[0;31m             \u001b[0mresult\u001b[0m \u001b[0;34m=\u001b[0m \u001b[0mself\u001b[0m\u001b[0;34m.\u001b[0m\u001b[0mforward\u001b[0m\u001b[0;34m(\u001b[0m\u001b[0;34m*\u001b[0m\u001b[0minput\u001b[0m\u001b[0;34m,\u001b[0m \u001b[0;34m**\u001b[0m\u001b[0mkwargs\u001b[0m\u001b[0;34m)\u001b[0m\u001b[0;34m\u001b[0m\u001b[0;34m\u001b[0m\u001b[0m\n\u001b[0m\u001b[1;32m    548\u001b[0m         \u001b[0;32mfor\u001b[0m \u001b[0mhook\u001b[0m \u001b[0;32min\u001b[0m \u001b[0mself\u001b[0m\u001b[0;34m.\u001b[0m\u001b[0m_forward_hooks\u001b[0m\u001b[0;34m.\u001b[0m\u001b[0mvalues\u001b[0m\u001b[0;34m(\u001b[0m\u001b[0;34m)\u001b[0m\u001b[0;34m:\u001b[0m\u001b[0;34m\u001b[0m\u001b[0;34m\u001b[0m\u001b[0m\n\u001b[1;32m    549\u001b[0m             \u001b[0mhook_result\u001b[0m \u001b[0;34m=\u001b[0m \u001b[0mhook\u001b[0m\u001b[0;34m(\u001b[0m\u001b[0mself\u001b[0m\u001b[0;34m,\u001b[0m \u001b[0minput\u001b[0m\u001b[0;34m,\u001b[0m \u001b[0mresult\u001b[0m\u001b[0;34m)\u001b[0m\u001b[0;34m\u001b[0m\u001b[0;34m\u001b[0m\u001b[0m\n",
      "\u001b[0;32m~/ssd/01_ty_research/10_github/TY-R-Forecast/models/src/operators/transformer.py\u001b[0m in \u001b[0;36mforward\u001b[0;34m(self, x, memory, src_mask, trg_mask)\u001b[0m\n\u001b[1;32m    118\u001b[0m     \u001b[0;32mdef\u001b[0m \u001b[0mforward\u001b[0m\u001b[0;34m(\u001b[0m\u001b[0mself\u001b[0m\u001b[0;34m,\u001b[0m \u001b[0mx\u001b[0m\u001b[0;34m,\u001b[0m \u001b[0mmemory\u001b[0m\u001b[0;34m,\u001b[0m \u001b[0msrc_mask\u001b[0m\u001b[0;34m,\u001b[0m \u001b[0mtrg_mask\u001b[0m\u001b[0;34m)\u001b[0m\u001b[0;34m:\u001b[0m\u001b[0;34m\u001b[0m\u001b[0;34m\u001b[0m\u001b[0m\n\u001b[1;32m    119\u001b[0m         \u001b[0;32mfor\u001b[0m \u001b[0mlayer\u001b[0m \u001b[0;32min\u001b[0m \u001b[0mself\u001b[0m\u001b[0;34m.\u001b[0m\u001b[0mlayers\u001b[0m\u001b[0;34m:\u001b[0m\u001b[0;34m\u001b[0m\u001b[0;34m\u001b[0m\u001b[0m\n\u001b[0;32m--> 120\u001b[0;31m             \u001b[0mx\u001b[0m \u001b[0;34m=\u001b[0m \u001b[0mlayer\u001b[0m\u001b[0;34m(\u001b[0m\u001b[0mx\u001b[0m\u001b[0;34m,\u001b[0m \u001b[0mmemory\u001b[0m\u001b[0;34m,\u001b[0m \u001b[0msrc_mask\u001b[0m\u001b[0;34m,\u001b[0m \u001b[0mtrg_mask\u001b[0m\u001b[0;34m)\u001b[0m\u001b[0;34m\u001b[0m\u001b[0;34m\u001b[0m\u001b[0m\n\u001b[0m\u001b[1;32m    121\u001b[0m         \u001b[0;32mreturn\u001b[0m \u001b[0mself\u001b[0m\u001b[0;34m.\u001b[0m\u001b[0mnorm\u001b[0m\u001b[0;34m(\u001b[0m\u001b[0mx\u001b[0m\u001b[0;34m)\u001b[0m\u001b[0;34m\u001b[0m\u001b[0;34m\u001b[0m\u001b[0m\n\u001b[1;32m    122\u001b[0m \u001b[0;34m\u001b[0m\u001b[0m\n",
      "\u001b[0;32m~/miniconda3/lib/python3.7/site-packages/torch/nn/modules/module.py\u001b[0m in \u001b[0;36m__call__\u001b[0;34m(self, *input, **kwargs)\u001b[0m\n\u001b[1;32m    545\u001b[0m             \u001b[0mresult\u001b[0m \u001b[0;34m=\u001b[0m \u001b[0mself\u001b[0m\u001b[0;34m.\u001b[0m\u001b[0m_slow_forward\u001b[0m\u001b[0;34m(\u001b[0m\u001b[0;34m*\u001b[0m\u001b[0minput\u001b[0m\u001b[0;34m,\u001b[0m \u001b[0;34m**\u001b[0m\u001b[0mkwargs\u001b[0m\u001b[0;34m)\u001b[0m\u001b[0;34m\u001b[0m\u001b[0;34m\u001b[0m\u001b[0m\n\u001b[1;32m    546\u001b[0m         \u001b[0;32melse\u001b[0m\u001b[0;34m:\u001b[0m\u001b[0;34m\u001b[0m\u001b[0;34m\u001b[0m\u001b[0m\n\u001b[0;32m--> 547\u001b[0;31m             \u001b[0mresult\u001b[0m \u001b[0;34m=\u001b[0m \u001b[0mself\u001b[0m\u001b[0;34m.\u001b[0m\u001b[0mforward\u001b[0m\u001b[0;34m(\u001b[0m\u001b[0;34m*\u001b[0m\u001b[0minput\u001b[0m\u001b[0;34m,\u001b[0m \u001b[0;34m**\u001b[0m\u001b[0mkwargs\u001b[0m\u001b[0;34m)\u001b[0m\u001b[0;34m\u001b[0m\u001b[0;34m\u001b[0m\u001b[0m\n\u001b[0m\u001b[1;32m    548\u001b[0m         \u001b[0;32mfor\u001b[0m \u001b[0mhook\u001b[0m \u001b[0;32min\u001b[0m \u001b[0mself\u001b[0m\u001b[0;34m.\u001b[0m\u001b[0m_forward_hooks\u001b[0m\u001b[0;34m.\u001b[0m\u001b[0mvalues\u001b[0m\u001b[0;34m(\u001b[0m\u001b[0;34m)\u001b[0m\u001b[0;34m:\u001b[0m\u001b[0;34m\u001b[0m\u001b[0;34m\u001b[0m\u001b[0m\n\u001b[1;32m    549\u001b[0m             \u001b[0mhook_result\u001b[0m \u001b[0;34m=\u001b[0m \u001b[0mhook\u001b[0m\u001b[0;34m(\u001b[0m\u001b[0mself\u001b[0m\u001b[0;34m,\u001b[0m \u001b[0minput\u001b[0m\u001b[0;34m,\u001b[0m \u001b[0mresult\u001b[0m\u001b[0;34m)\u001b[0m\u001b[0;34m\u001b[0m\u001b[0;34m\u001b[0m\u001b[0m\n",
      "\u001b[0;32m~/ssd/01_ty_research/10_github/TY-R-Forecast/models/src/operators/transformer.py\u001b[0m in \u001b[0;36mforward\u001b[0;34m(self, x, memory, src_mask, trg_mask)\u001b[0m\n\u001b[1;32m    134\u001b[0m         \u001b[0;34m''' Follow Figure 1 (right) for connections. '''\u001b[0m\u001b[0;34m\u001b[0m\u001b[0;34m\u001b[0m\u001b[0m\n\u001b[1;32m    135\u001b[0m         \u001b[0mm\u001b[0m \u001b[0;34m=\u001b[0m \u001b[0mmemory\u001b[0m\u001b[0;34m\u001b[0m\u001b[0;34m\u001b[0m\u001b[0m\n\u001b[0;32m--> 136\u001b[0;31m         \u001b[0mx\u001b[0m \u001b[0;34m=\u001b[0m \u001b[0mself\u001b[0m\u001b[0;34m.\u001b[0m\u001b[0msublayer\u001b[0m\u001b[0;34m[\u001b[0m\u001b[0;36m0\u001b[0m\u001b[0;34m]\u001b[0m\u001b[0;34m(\u001b[0m\u001b[0mx\u001b[0m\u001b[0;34m,\u001b[0m \u001b[0;32mlambda\u001b[0m \u001b[0mx\u001b[0m\u001b[0;34m:\u001b[0m \u001b[0mself\u001b[0m\u001b[0;34m.\u001b[0m\u001b[0mself_attn\u001b[0m\u001b[0;34m(\u001b[0m\u001b[0mx\u001b[0m\u001b[0;34m,\u001b[0m \u001b[0mx\u001b[0m\u001b[0;34m,\u001b[0m \u001b[0mx\u001b[0m\u001b[0;34m,\u001b[0m \u001b[0mtrg_mask\u001b[0m\u001b[0;34m)\u001b[0m\u001b[0;34m)\u001b[0m\u001b[0;34m\u001b[0m\u001b[0;34m\u001b[0m\u001b[0m\n\u001b[0m\u001b[1;32m    137\u001b[0m         \u001b[0mx\u001b[0m \u001b[0;34m=\u001b[0m \u001b[0mself\u001b[0m\u001b[0;34m.\u001b[0m\u001b[0msublayer\u001b[0m\u001b[0;34m[\u001b[0m\u001b[0;36m1\u001b[0m\u001b[0;34m]\u001b[0m\u001b[0;34m(\u001b[0m\u001b[0mx\u001b[0m\u001b[0;34m,\u001b[0m \u001b[0;32mlambda\u001b[0m \u001b[0mx\u001b[0m\u001b[0;34m:\u001b[0m \u001b[0mself\u001b[0m\u001b[0;34m.\u001b[0m\u001b[0msrc_attn\u001b[0m\u001b[0;34m(\u001b[0m\u001b[0mx\u001b[0m\u001b[0;34m,\u001b[0m \u001b[0mm\u001b[0m\u001b[0;34m,\u001b[0m \u001b[0mm\u001b[0m\u001b[0;34m,\u001b[0m \u001b[0msrc_mask\u001b[0m\u001b[0;34m)\u001b[0m\u001b[0;34m)\u001b[0m\u001b[0;34m\u001b[0m\u001b[0;34m\u001b[0m\u001b[0m\n\u001b[1;32m    138\u001b[0m         \u001b[0;32mreturn\u001b[0m \u001b[0mself\u001b[0m\u001b[0;34m.\u001b[0m\u001b[0msublayer\u001b[0m\u001b[0;34m[\u001b[0m\u001b[0;36m2\u001b[0m\u001b[0;34m]\u001b[0m\u001b[0;34m(\u001b[0m\u001b[0mx\u001b[0m\u001b[0;34m,\u001b[0m \u001b[0mself\u001b[0m\u001b[0;34m.\u001b[0m\u001b[0mfeed_forward\u001b[0m\u001b[0;34m)\u001b[0m\u001b[0;34m\u001b[0m\u001b[0;34m\u001b[0m\u001b[0m\n",
      "\u001b[0;32m~/miniconda3/lib/python3.7/site-packages/torch/nn/modules/module.py\u001b[0m in \u001b[0;36m__call__\u001b[0;34m(self, *input, **kwargs)\u001b[0m\n\u001b[1;32m    545\u001b[0m             \u001b[0mresult\u001b[0m \u001b[0;34m=\u001b[0m \u001b[0mself\u001b[0m\u001b[0;34m.\u001b[0m\u001b[0m_slow_forward\u001b[0m\u001b[0;34m(\u001b[0m\u001b[0;34m*\u001b[0m\u001b[0minput\u001b[0m\u001b[0;34m,\u001b[0m \u001b[0;34m**\u001b[0m\u001b[0mkwargs\u001b[0m\u001b[0;34m)\u001b[0m\u001b[0;34m\u001b[0m\u001b[0;34m\u001b[0m\u001b[0m\n\u001b[1;32m    546\u001b[0m         \u001b[0;32melse\u001b[0m\u001b[0;34m:\u001b[0m\u001b[0;34m\u001b[0m\u001b[0;34m\u001b[0m\u001b[0m\n\u001b[0;32m--> 547\u001b[0;31m             \u001b[0mresult\u001b[0m \u001b[0;34m=\u001b[0m \u001b[0mself\u001b[0m\u001b[0;34m.\u001b[0m\u001b[0mforward\u001b[0m\u001b[0;34m(\u001b[0m\u001b[0;34m*\u001b[0m\u001b[0minput\u001b[0m\u001b[0;34m,\u001b[0m \u001b[0;34m**\u001b[0m\u001b[0mkwargs\u001b[0m\u001b[0;34m)\u001b[0m\u001b[0;34m\u001b[0m\u001b[0;34m\u001b[0m\u001b[0m\n\u001b[0m\u001b[1;32m    548\u001b[0m         \u001b[0;32mfor\u001b[0m \u001b[0mhook\u001b[0m \u001b[0;32min\u001b[0m \u001b[0mself\u001b[0m\u001b[0;34m.\u001b[0m\u001b[0m_forward_hooks\u001b[0m\u001b[0;34m.\u001b[0m\u001b[0mvalues\u001b[0m\u001b[0;34m(\u001b[0m\u001b[0;34m)\u001b[0m\u001b[0;34m:\u001b[0m\u001b[0;34m\u001b[0m\u001b[0;34m\u001b[0m\u001b[0m\n\u001b[1;32m    549\u001b[0m             \u001b[0mhook_result\u001b[0m \u001b[0;34m=\u001b[0m \u001b[0mhook\u001b[0m\u001b[0;34m(\u001b[0m\u001b[0mself\u001b[0m\u001b[0;34m,\u001b[0m \u001b[0minput\u001b[0m\u001b[0;34m,\u001b[0m \u001b[0mresult\u001b[0m\u001b[0;34m)\u001b[0m\u001b[0;34m\u001b[0m\u001b[0;34m\u001b[0m\u001b[0m\n",
      "\u001b[0;32m~/ssd/01_ty_research/10_github/TY-R-Forecast/models/src/operators/transformer.py\u001b[0m in \u001b[0;36mforward\u001b[0;34m(self, x, sublayer)\u001b[0m\n\u001b[1;32m     80\u001b[0m     \u001b[0;32mdef\u001b[0m \u001b[0mforward\u001b[0m\u001b[0;34m(\u001b[0m\u001b[0mself\u001b[0m\u001b[0;34m,\u001b[0m \u001b[0mx\u001b[0m\u001b[0;34m,\u001b[0m \u001b[0msublayer\u001b[0m\u001b[0;34m)\u001b[0m\u001b[0;34m:\u001b[0m\u001b[0;34m\u001b[0m\u001b[0;34m\u001b[0m\u001b[0m\n\u001b[1;32m     81\u001b[0m         \u001b[0;34m''' Apply residual connection to any sublayer with the same size. '''\u001b[0m\u001b[0;34m\u001b[0m\u001b[0;34m\u001b[0m\u001b[0m\n\u001b[0;32m---> 82\u001b[0;31m         \u001b[0;32mreturn\u001b[0m \u001b[0mx\u001b[0m \u001b[0;34m+\u001b[0m \u001b[0mself\u001b[0m\u001b[0;34m.\u001b[0m\u001b[0mdropout\u001b[0m\u001b[0;34m(\u001b[0m\u001b[0msublayer\u001b[0m\u001b[0;34m(\u001b[0m\u001b[0mself\u001b[0m\u001b[0;34m.\u001b[0m\u001b[0mnorm\u001b[0m\u001b[0;34m(\u001b[0m\u001b[0mx\u001b[0m\u001b[0;34m)\u001b[0m\u001b[0;34m)\u001b[0m\u001b[0;34m)\u001b[0m\u001b[0;34m\u001b[0m\u001b[0;34m\u001b[0m\u001b[0m\n\u001b[0m\u001b[1;32m     83\u001b[0m \u001b[0;34m\u001b[0m\u001b[0m\n\u001b[1;32m     84\u001b[0m \u001b[0;32mclass\u001b[0m \u001b[0mEncoder\u001b[0m\u001b[0;34m(\u001b[0m\u001b[0mnn\u001b[0m\u001b[0;34m.\u001b[0m\u001b[0mModule\u001b[0m\u001b[0;34m)\u001b[0m\u001b[0;34m:\u001b[0m\u001b[0;34m\u001b[0m\u001b[0;34m\u001b[0m\u001b[0m\n",
      "\u001b[0;32m~/ssd/01_ty_research/10_github/TY-R-Forecast/models/src/operators/transformer.py\u001b[0m in \u001b[0;36m<lambda>\u001b[0;34m(x)\u001b[0m\n\u001b[1;32m    134\u001b[0m         \u001b[0;34m''' Follow Figure 1 (right) for connections. '''\u001b[0m\u001b[0;34m\u001b[0m\u001b[0;34m\u001b[0m\u001b[0m\n\u001b[1;32m    135\u001b[0m         \u001b[0mm\u001b[0m \u001b[0;34m=\u001b[0m \u001b[0mmemory\u001b[0m\u001b[0;34m\u001b[0m\u001b[0;34m\u001b[0m\u001b[0m\n\u001b[0;32m--> 136\u001b[0;31m         \u001b[0mx\u001b[0m \u001b[0;34m=\u001b[0m \u001b[0mself\u001b[0m\u001b[0;34m.\u001b[0m\u001b[0msublayer\u001b[0m\u001b[0;34m[\u001b[0m\u001b[0;36m0\u001b[0m\u001b[0;34m]\u001b[0m\u001b[0;34m(\u001b[0m\u001b[0mx\u001b[0m\u001b[0;34m,\u001b[0m \u001b[0;32mlambda\u001b[0m \u001b[0mx\u001b[0m\u001b[0;34m:\u001b[0m \u001b[0mself\u001b[0m\u001b[0;34m.\u001b[0m\u001b[0mself_attn\u001b[0m\u001b[0;34m(\u001b[0m\u001b[0mx\u001b[0m\u001b[0;34m,\u001b[0m \u001b[0mx\u001b[0m\u001b[0;34m,\u001b[0m \u001b[0mx\u001b[0m\u001b[0;34m,\u001b[0m \u001b[0mtrg_mask\u001b[0m\u001b[0;34m)\u001b[0m\u001b[0;34m)\u001b[0m\u001b[0;34m\u001b[0m\u001b[0;34m\u001b[0m\u001b[0m\n\u001b[0m\u001b[1;32m    137\u001b[0m         \u001b[0mx\u001b[0m \u001b[0;34m=\u001b[0m \u001b[0mself\u001b[0m\u001b[0;34m.\u001b[0m\u001b[0msublayer\u001b[0m\u001b[0;34m[\u001b[0m\u001b[0;36m1\u001b[0m\u001b[0;34m]\u001b[0m\u001b[0;34m(\u001b[0m\u001b[0mx\u001b[0m\u001b[0;34m,\u001b[0m \u001b[0;32mlambda\u001b[0m \u001b[0mx\u001b[0m\u001b[0;34m:\u001b[0m \u001b[0mself\u001b[0m\u001b[0;34m.\u001b[0m\u001b[0msrc_attn\u001b[0m\u001b[0;34m(\u001b[0m\u001b[0mx\u001b[0m\u001b[0;34m,\u001b[0m \u001b[0mm\u001b[0m\u001b[0;34m,\u001b[0m \u001b[0mm\u001b[0m\u001b[0;34m,\u001b[0m \u001b[0msrc_mask\u001b[0m\u001b[0;34m)\u001b[0m\u001b[0;34m)\u001b[0m\u001b[0;34m\u001b[0m\u001b[0;34m\u001b[0m\u001b[0m\n\u001b[1;32m    138\u001b[0m         \u001b[0;32mreturn\u001b[0m \u001b[0mself\u001b[0m\u001b[0;34m.\u001b[0m\u001b[0msublayer\u001b[0m\u001b[0;34m[\u001b[0m\u001b[0;36m2\u001b[0m\u001b[0;34m]\u001b[0m\u001b[0;34m(\u001b[0m\u001b[0mx\u001b[0m\u001b[0;34m,\u001b[0m \u001b[0mself\u001b[0m\u001b[0;34m.\u001b[0m\u001b[0mfeed_forward\u001b[0m\u001b[0;34m)\u001b[0m\u001b[0;34m\u001b[0m\u001b[0;34m\u001b[0m\u001b[0m\n",
      "\u001b[0;32m~/miniconda3/lib/python3.7/site-packages/torch/nn/modules/module.py\u001b[0m in \u001b[0;36m__call__\u001b[0;34m(self, *input, **kwargs)\u001b[0m\n\u001b[1;32m    545\u001b[0m             \u001b[0mresult\u001b[0m \u001b[0;34m=\u001b[0m \u001b[0mself\u001b[0m\u001b[0;34m.\u001b[0m\u001b[0m_slow_forward\u001b[0m\u001b[0;34m(\u001b[0m\u001b[0;34m*\u001b[0m\u001b[0minput\u001b[0m\u001b[0;34m,\u001b[0m \u001b[0;34m**\u001b[0m\u001b[0mkwargs\u001b[0m\u001b[0;34m)\u001b[0m\u001b[0;34m\u001b[0m\u001b[0;34m\u001b[0m\u001b[0m\n\u001b[1;32m    546\u001b[0m         \u001b[0;32melse\u001b[0m\u001b[0;34m:\u001b[0m\u001b[0;34m\u001b[0m\u001b[0;34m\u001b[0m\u001b[0m\n\u001b[0;32m--> 547\u001b[0;31m             \u001b[0mresult\u001b[0m \u001b[0;34m=\u001b[0m \u001b[0mself\u001b[0m\u001b[0;34m.\u001b[0m\u001b[0mforward\u001b[0m\u001b[0;34m(\u001b[0m\u001b[0;34m*\u001b[0m\u001b[0minput\u001b[0m\u001b[0;34m,\u001b[0m \u001b[0;34m**\u001b[0m\u001b[0mkwargs\u001b[0m\u001b[0;34m)\u001b[0m\u001b[0;34m\u001b[0m\u001b[0;34m\u001b[0m\u001b[0m\n\u001b[0m\u001b[1;32m    548\u001b[0m         \u001b[0;32mfor\u001b[0m \u001b[0mhook\u001b[0m \u001b[0;32min\u001b[0m \u001b[0mself\u001b[0m\u001b[0;34m.\u001b[0m\u001b[0m_forward_hooks\u001b[0m\u001b[0;34m.\u001b[0m\u001b[0mvalues\u001b[0m\u001b[0;34m(\u001b[0m\u001b[0;34m)\u001b[0m\u001b[0;34m:\u001b[0m\u001b[0;34m\u001b[0m\u001b[0;34m\u001b[0m\u001b[0m\n\u001b[1;32m    549\u001b[0m             \u001b[0mhook_result\u001b[0m \u001b[0;34m=\u001b[0m \u001b[0mhook\u001b[0m\u001b[0;34m(\u001b[0m\u001b[0mself\u001b[0m\u001b[0;34m,\u001b[0m \u001b[0minput\u001b[0m\u001b[0;34m,\u001b[0m \u001b[0mresult\u001b[0m\u001b[0;34m)\u001b[0m\u001b[0;34m\u001b[0m\u001b[0;34m\u001b[0m\u001b[0m\n",
      "\u001b[0;32m~/ssd/01_ty_research/10_github/TY-R-Forecast/models/src/operators/transformer.py\u001b[0m in \u001b[0;36mforward\u001b[0;34m(self, query, key, value, mask)\u001b[0m\n\u001b[1;32m    198\u001b[0m \u001b[0;34m\u001b[0m\u001b[0m\n\u001b[1;32m    199\u001b[0m         \u001b[0;31m# 2) Apply attention on all the projected vectors in batch.\u001b[0m\u001b[0;34m\u001b[0m\u001b[0;34m\u001b[0m\u001b[0;34m\u001b[0m\u001b[0m\n\u001b[0;32m--> 200\u001b[0;31m         \u001b[0mx\u001b[0m\u001b[0;34m,\u001b[0m \u001b[0mself\u001b[0m\u001b[0;34m.\u001b[0m\u001b[0mattn\u001b[0m \u001b[0;34m=\u001b[0m \u001b[0mattention\u001b[0m\u001b[0;34m(\u001b[0m\u001b[0mquery\u001b[0m\u001b[0;34m,\u001b[0m \u001b[0mkey\u001b[0m\u001b[0;34m,\u001b[0m \u001b[0mvalue\u001b[0m\u001b[0;34m,\u001b[0m \u001b[0mmask\u001b[0m\u001b[0;34m=\u001b[0m\u001b[0mmask\u001b[0m\u001b[0;34m,\u001b[0m \u001b[0mdropout\u001b[0m\u001b[0;34m=\u001b[0m\u001b[0mself\u001b[0m\u001b[0;34m.\u001b[0m\u001b[0mdropout\u001b[0m\u001b[0;34m)\u001b[0m\u001b[0;34m\u001b[0m\u001b[0;34m\u001b[0m\u001b[0m\n\u001b[0m\u001b[1;32m    201\u001b[0m         \u001b[0;31m# x shape: n_batch x h x T x (C*H*W)\u001b[0m\u001b[0;34m\u001b[0m\u001b[0;34m\u001b[0m\u001b[0;34m\u001b[0m\u001b[0m\n\u001b[1;32m    202\u001b[0m \u001b[0;34m\u001b[0m\u001b[0m\n",
      "\u001b[0;32m~/ssd/01_ty_research/10_github/TY-R-Forecast/models/src/operators/transformer.py\u001b[0m in \u001b[0;36mattention\u001b[0;34m(query, key, value, mask, dropout)\u001b[0m\n\u001b[1;32m    157\u001b[0m     \u001b[0;32mif\u001b[0m \u001b[0mmask\u001b[0m \u001b[0;32mis\u001b[0m \u001b[0;32mnot\u001b[0m \u001b[0;32mNone\u001b[0m\u001b[0;34m:\u001b[0m\u001b[0;34m\u001b[0m\u001b[0;34m\u001b[0m\u001b[0m\n\u001b[1;32m    158\u001b[0m         \u001b[0mscore\u001b[0m \u001b[0;34m=\u001b[0m \u001b[0mscore\u001b[0m\u001b[0;34m.\u001b[0m\u001b[0mmasked_fill\u001b[0m\u001b[0;34m(\u001b[0m\u001b[0mmask\u001b[0m\u001b[0;34m==\u001b[0m\u001b[0;36m0\u001b[0m\u001b[0;34m,\u001b[0m \u001b[0;36m1e-9\u001b[0m\u001b[0;34m)\u001b[0m\u001b[0;34m\u001b[0m\u001b[0;34m\u001b[0m\u001b[0m\n\u001b[0;32m--> 159\u001b[0;31m     \u001b[0mp_attn\u001b[0m \u001b[0;34m=\u001b[0m \u001b[0mF\u001b[0m\u001b[0;34m.\u001b[0m\u001b[0msoftmax\u001b[0m\u001b[0;34m(\u001b[0m\u001b[0mscore\u001b[0m\u001b[0;34m,\u001b[0m \u001b[0mdim\u001b[0m\u001b[0;34m=\u001b[0m\u001b[0;34m-\u001b[0m\u001b[0;36m1\u001b[0m\u001b[0;34m)\u001b[0m\u001b[0;34m\u001b[0m\u001b[0;34m\u001b[0m\u001b[0m\n\u001b[0m\u001b[1;32m    160\u001b[0m     \u001b[0;31m# p_attn shape: n_batch x h x T x T\u001b[0m\u001b[0;34m\u001b[0m\u001b[0;34m\u001b[0m\u001b[0;34m\u001b[0m\u001b[0m\n\u001b[1;32m    161\u001b[0m     \u001b[0;32mif\u001b[0m \u001b[0mdropout\u001b[0m \u001b[0;32mis\u001b[0m \u001b[0;32mnot\u001b[0m \u001b[0;32mNone\u001b[0m\u001b[0;34m:\u001b[0m\u001b[0;34m\u001b[0m\u001b[0;34m\u001b[0m\u001b[0m\n",
      "\u001b[0;32m~/ssd/01_ty_research/10_github/TY-R-Forecast/models/src/operators/transformer.py\u001b[0m in \u001b[0;36mattention\u001b[0;34m(query, key, value, mask, dropout)\u001b[0m\n\u001b[1;32m    157\u001b[0m     \u001b[0;32mif\u001b[0m \u001b[0mmask\u001b[0m \u001b[0;32mis\u001b[0m \u001b[0;32mnot\u001b[0m \u001b[0;32mNone\u001b[0m\u001b[0;34m:\u001b[0m\u001b[0;34m\u001b[0m\u001b[0;34m\u001b[0m\u001b[0m\n\u001b[1;32m    158\u001b[0m         \u001b[0mscore\u001b[0m \u001b[0;34m=\u001b[0m \u001b[0mscore\u001b[0m\u001b[0;34m.\u001b[0m\u001b[0mmasked_fill\u001b[0m\u001b[0;34m(\u001b[0m\u001b[0mmask\u001b[0m\u001b[0;34m==\u001b[0m\u001b[0;36m0\u001b[0m\u001b[0;34m,\u001b[0m \u001b[0;36m1e-9\u001b[0m\u001b[0;34m)\u001b[0m\u001b[0;34m\u001b[0m\u001b[0;34m\u001b[0m\u001b[0m\n\u001b[0;32m--> 159\u001b[0;31m     \u001b[0mp_attn\u001b[0m \u001b[0;34m=\u001b[0m \u001b[0mF\u001b[0m\u001b[0;34m.\u001b[0m\u001b[0msoftmax\u001b[0m\u001b[0;34m(\u001b[0m\u001b[0mscore\u001b[0m\u001b[0;34m,\u001b[0m \u001b[0mdim\u001b[0m\u001b[0;34m=\u001b[0m\u001b[0;34m-\u001b[0m\u001b[0;36m1\u001b[0m\u001b[0;34m)\u001b[0m\u001b[0;34m\u001b[0m\u001b[0;34m\u001b[0m\u001b[0m\n\u001b[0m\u001b[1;32m    160\u001b[0m     \u001b[0;31m# p_attn shape: n_batch x h x T x T\u001b[0m\u001b[0;34m\u001b[0m\u001b[0;34m\u001b[0m\u001b[0;34m\u001b[0m\u001b[0m\n\u001b[1;32m    161\u001b[0m     \u001b[0;32mif\u001b[0m \u001b[0mdropout\u001b[0m \u001b[0;32mis\u001b[0m \u001b[0;32mnot\u001b[0m \u001b[0;32mNone\u001b[0m\u001b[0;34m:\u001b[0m\u001b[0;34m\u001b[0m\u001b[0;34m\u001b[0m\u001b[0m\n",
      "\u001b[0;32m~/miniconda3/lib/python3.7/bdb.py\u001b[0m in \u001b[0;36mtrace_dispatch\u001b[0;34m(self, frame, event, arg)\u001b[0m\n\u001b[1;32m     86\u001b[0m             \u001b[0;32mreturn\u001b[0m \u001b[0;31m# None\u001b[0m\u001b[0;34m\u001b[0m\u001b[0;34m\u001b[0m\u001b[0m\n\u001b[1;32m     87\u001b[0m         \u001b[0;32mif\u001b[0m \u001b[0mevent\u001b[0m \u001b[0;34m==\u001b[0m \u001b[0;34m'line'\u001b[0m\u001b[0;34m:\u001b[0m\u001b[0;34m\u001b[0m\u001b[0;34m\u001b[0m\u001b[0m\n\u001b[0;32m---> 88\u001b[0;31m             \u001b[0;32mreturn\u001b[0m \u001b[0mself\u001b[0m\u001b[0;34m.\u001b[0m\u001b[0mdispatch_line\u001b[0m\u001b[0;34m(\u001b[0m\u001b[0mframe\u001b[0m\u001b[0;34m)\u001b[0m\u001b[0;34m\u001b[0m\u001b[0;34m\u001b[0m\u001b[0m\n\u001b[0m\u001b[1;32m     89\u001b[0m         \u001b[0;32mif\u001b[0m \u001b[0mevent\u001b[0m \u001b[0;34m==\u001b[0m \u001b[0;34m'call'\u001b[0m\u001b[0;34m:\u001b[0m\u001b[0;34m\u001b[0m\u001b[0;34m\u001b[0m\u001b[0m\n\u001b[1;32m     90\u001b[0m             \u001b[0;32mreturn\u001b[0m \u001b[0mself\u001b[0m\u001b[0;34m.\u001b[0m\u001b[0mdispatch_call\u001b[0m\u001b[0;34m(\u001b[0m\u001b[0mframe\u001b[0m\u001b[0;34m,\u001b[0m \u001b[0marg\u001b[0m\u001b[0;34m)\u001b[0m\u001b[0;34m\u001b[0m\u001b[0;34m\u001b[0m\u001b[0m\n",
      "\u001b[0;32m~/miniconda3/lib/python3.7/bdb.py\u001b[0m in \u001b[0;36mdispatch_line\u001b[0;34m(self, frame)\u001b[0m\n\u001b[1;32m    111\u001b[0m         \u001b[0;32mif\u001b[0m \u001b[0mself\u001b[0m\u001b[0;34m.\u001b[0m\u001b[0mstop_here\u001b[0m\u001b[0;34m(\u001b[0m\u001b[0mframe\u001b[0m\u001b[0;34m)\u001b[0m \u001b[0;32mor\u001b[0m \u001b[0mself\u001b[0m\u001b[0;34m.\u001b[0m\u001b[0mbreak_here\u001b[0m\u001b[0;34m(\u001b[0m\u001b[0mframe\u001b[0m\u001b[0;34m)\u001b[0m\u001b[0;34m:\u001b[0m\u001b[0;34m\u001b[0m\u001b[0;34m\u001b[0m\u001b[0m\n\u001b[1;32m    112\u001b[0m             \u001b[0mself\u001b[0m\u001b[0;34m.\u001b[0m\u001b[0muser_line\u001b[0m\u001b[0;34m(\u001b[0m\u001b[0mframe\u001b[0m\u001b[0;34m)\u001b[0m\u001b[0;34m\u001b[0m\u001b[0;34m\u001b[0m\u001b[0m\n\u001b[0;32m--> 113\u001b[0;31m             \u001b[0;32mif\u001b[0m \u001b[0mself\u001b[0m\u001b[0;34m.\u001b[0m\u001b[0mquitting\u001b[0m\u001b[0;34m:\u001b[0m \u001b[0;32mraise\u001b[0m \u001b[0mBdbQuit\u001b[0m\u001b[0;34m\u001b[0m\u001b[0;34m\u001b[0m\u001b[0m\n\u001b[0m\u001b[1;32m    114\u001b[0m         \u001b[0;32mreturn\u001b[0m \u001b[0mself\u001b[0m\u001b[0;34m.\u001b[0m\u001b[0mtrace_dispatch\u001b[0m\u001b[0;34m\u001b[0m\u001b[0;34m\u001b[0m\u001b[0m\n\u001b[1;32m    115\u001b[0m \u001b[0;34m\u001b[0m\u001b[0m\n",
      "\u001b[0;31mBdbQuit\u001b[0m: "
     ]
    }
   ],
   "source": [
    "model(src,tgt,src_mask,tgt_mask)"
   ]
  },
  {
   "cell_type": "code",
   "execution_count": null,
   "metadata": {},
   "outputs": [],
   "source": []
  },
  {
   "cell_type": "code",
   "execution_count": null,
   "metadata": {},
   "outputs": [],
   "source": []
  },
  {
   "cell_type": "code",
   "execution_count": null,
   "metadata": {},
   "outputs": [],
   "source": []
  },
  {
   "cell_type": "code",
   "execution_count": null,
   "metadata": {},
   "outputs": [],
   "source": []
  }
 ],
 "metadata": {
  "kernelspec": {
   "display_name": "Python 3",
   "language": "python",
   "name": "python3"
  },
  "language_info": {
   "codemirror_mode": {
    "name": "ipython",
    "version": 3
   },
   "file_extension": ".py",
   "mimetype": "text/x-python",
   "name": "python",
   "nbconvert_exporter": "python",
   "pygments_lexer": "ipython3",
   "version": "3.7.3"
  }
 },
 "nbformat": 4,
 "nbformat_minor": 2
}
