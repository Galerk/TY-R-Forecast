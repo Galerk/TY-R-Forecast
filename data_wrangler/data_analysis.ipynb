{
 "cells": [
  {
   "cell_type": "code",
   "execution_count": 3,
   "metadata": {},
   "outputs": [],
   "source": [
    "import os\n",
    "import shutil\n",
    "from args_jupyter import args, createfolder, make_path\n",
    "from data_wrangler_jupyter import extract_original_data, output_files, check_data_and_create_miss_data\n",
    "\n",
    "def checkpath(path):\n",
    "    if os.path.exists(path):\n",
    "        print('Path exists!')\n",
    "    else:\n",
    "        print('Not exists!')"
   ]
  },
  {
   "cell_type": "code",
   "execution_count": 4,
   "metadata": {},
   "outputs": [
    {
     "data": {
      "text/plain": [
       "{'study_area': 'Taipei',\n",
       " 'radar_folder': '/home/jack/Desktop/01_Radar_data',\n",
       " 'I_lat_l': 23.9125,\n",
       " 'I_lat_h': 26.15,\n",
       " 'I_lon_l': 120.4,\n",
       " 'I_lon_h': 122.6375,\n",
       " 'F_lat_l': 24.6625,\n",
       " 'F_lat_h': 25.4,\n",
       " 'F_lon_l': 121.15,\n",
       " 'F_lon_h': 121.8875,\n",
       " 'origin_lat_l': 20,\n",
       " 'origin_lat_h': 27,\n",
       " 'origin_lon_l': 118,\n",
       " 'origin_lon_h': 123.5,\n",
       " 'res_degree': 0.0125,\n",
       " 'ty_list': '/home/jack/Onedrive/01_IIS/04_TY_research/ty_list.xlsx',\n",
       " 'sta_list': '/home/jack/Onedrive/01_IIS/04_TY_research/sta_list_all.xlsx',\n",
       " 'TW_map_file': '/home/jack/Onedrive/01_IIS/04_TY_research/01_Radar_data/TW_shapefile/gadm36_TWN_2',\n",
       " 'fortran_code_folder': 'fortran_codes/',\n",
       " 'original_files_folder': '/home/jack/ssd/research/origianal_radar_data_2012_2018',\n",
       " 'compressed_files_folder': '/home/jack/Desktop/01_Radar_data/01_compressed_files',\n",
       " 'files_folder': '/home/jack/Desktop/01_Radar_data/02_pandas_files',\n",
       " 'figures_folder': '/home/jack/Desktop/01_Radar_data/03_figures',\n",
       " 'I_shape': [180, 180],\n",
       " 'F_shape': [60, 60],\n",
       " 'origin_size': [561, 441],\n",
       " 'I_x_left': 193,\n",
       " 'I_x_right': 372,\n",
       " 'I_y_low': 314,\n",
       " 'I_y_high': 493,\n",
       " 'files_type': 'pandas',\n",
       " 'compression': 'bz2'}"
      ]
     },
     "execution_count": 4,
     "metadata": {},
     "output_type": "execute_result"
    }
   ],
   "source": [
    "args.radar_folder = os.path.expanduser('~/Desktop/01_Radar_data')\n",
    "args.ty_list = make_path('/home/jack/Onedrive/01_IIS/04_TY_research/ty_list.xlsx')\n",
    "args.sta_list = make_path('/home/jack/Onedrive/01_IIS/04_TY_research/sta_list_all.xlsx')\n",
    "args.TW_map_file = make_path('/home/jack/Onedrive/01_IIS/04_TY_research/01_Radar_data/TW_shapefile/gadm36_TWN_2')\n",
    "args.fortran_code_folder = 'fortran_codes/'\n",
    "\n",
    "args.compressed_files_folder = make_path('01_compressed_files', args.radar_folder)\n",
    "args.files_type = 'pandas'\n",
    "args.files_folder = make_path('02_pandas_files', args.radar_folder)\n",
    "args.figures_folder = make_path('03_figures', args.radar_folder)\n",
    "args.compression = 'bz2'\n",
    "args"
   ]
  },
  {
   "cell_type": "code",
   "execution_count": 5,
   "metadata": {},
   "outputs": [
    {
     "name": "stdout",
     "output_type": "stream",
     "text": [
      "Path exists!\n",
      "Path exists!\n",
      "Path exists!\n"
     ]
    }
   ],
   "source": [
    "checkpath(args.ty_list)\n",
    "checkpath(args.files_folder)\n",
    "checkpath(args.TW_map_file+'.prj')"
   ]
  },
  {
   "cell_type": "code",
   "execution_count": 6,
   "metadata": {},
   "outputs": [],
   "source": [
    "if not os.path.exists(args.compressed_files_folder):\n",
    "    extract_original_data()"
   ]
  },
  {
   "cell_type": "code",
   "execution_count": 7,
   "metadata": {},
   "outputs": [],
   "source": [
    "if not os.path.exists(args.files_folder):\n",
    "    output_files()"
   ]
  },
  {
   "cell_type": "code",
   "execution_count": 9,
   "metadata": {},
   "outputs": [
    {
     "name": "stdout",
     "output_type": "stream",
     "text": [
      "({'SAOLA': 391, 'SOULIK': 307, 'TRAMI': 217, 'KONG-REY': 181, 'USAG': 289, 'FITOW': 253, 'MATMO': 271, 'CHAN-HOM': 163, 'SOUDELOR': 433, 'DUJUAN': 289, 'MALAKAS': 253, 'MEGI': 325, 'MARIA': 229}, {}, {'SAOLA': 391, 'SOULIK': 307, 'TRAMI': 217, 'KONG-REY': 181, 'USAG': 289, 'FITOW': 253, 'MATMO': 271, 'CHAN-HOM': 163, 'SOUDELOR': 433, 'DUJUAN': 289, 'MALAKAS': 253, 'MEGI': 325, 'MARIA': 229})\n"
     ]
    }
   ],
   "source": [
    "print(check_data_and_create_miss_data())"
   ]
  },
  {
   "cell_type": "code",
   "execution_count": null,
   "metadata": {},
   "outputs": [],
   "source": []
  }
 ],
 "metadata": {
  "kernelspec": {
   "display_name": "Python 3",
   "language": "python",
   "name": "python3"
  },
  "language_info": {
   "codemirror_mode": {
    "name": "ipython",
    "version": 3
   },
   "file_extension": ".py",
   "mimetype": "text/x-python",
   "name": "python",
   "nbconvert_exporter": "python",
   "pygments_lexer": "ipython3",
   "version": "3.7.1"
  }
 },
 "nbformat": 4,
 "nbformat_minor": 2
}
