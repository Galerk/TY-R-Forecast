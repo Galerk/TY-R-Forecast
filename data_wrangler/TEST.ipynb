{
 "cells": [
  {
   "cell_type": "code",
   "execution_count": 78,
   "metadata": {},
   "outputs": [
    {
     "name": "stdout",
     "output_type": "stream",
     "text": [
      "Taiwan\n"
     ]
    }
   ],
   "source": [
    "%matplotlib inline\n",
    "import os\n",
    "import numpy as np\n",
    "import pandas as pd\n",
    "import matplotlib.pyplot as plt\n",
    "import torch.nn.functional as F\n",
    "import torch\n",
    "from args_tools_jupyter import get_args\n",
    "args = get_args()\n",
    "print(args['study_area'])"
   ]
  },
  {
   "cell_type": "code",
   "execution_count": 19,
   "metadata": {},
   "outputs": [],
   "source": [
    "file_path={}\n",
    "for i in sorted(os.listdir(args.radar_wrangled_data_folder)):\n",
    "    file_path[i] = sorted(os.listdir(os.path.join(args.radar_wrangled_data_folder,i)))"
   ]
  },
  {
   "cell_type": "code",
   "execution_count": 74,
   "metadata": {},
   "outputs": [],
   "source": [
    "def BMSE(outputs, targets):\n",
    "    value_list = [0, 2, 5, 10, 30, 60, 500]\n",
    "    weights = [1, 2, 5, 10, 30, 100]\n",
    "    loss = 0.\n",
    "    for i in range(len(value_list)-1):\n",
    "        mask = (targets>=value_list[i]) & (targets<value_list[i+1])\n",
    "        tmp = weights[i] * F.mse_loss(outputs[mask], targets[mask])\n",
    "        if torch.isnan(tmp):\n",
    "            continue\n",
    "        else:\n",
    "            loss += tmp\n",
    "    return loss"
   ]
  },
  {
   "cell_type": "code",
   "execution_count": 82,
   "metadata": {},
   "outputs": [
    {
     "data": {
      "text/plain": [
       "157433.0262124017"
      ]
     },
     "execution_count": 82,
     "metadata": {},
     "output_type": "execute_result"
    }
   ],
   "source": [
    "bmse = 0\n",
    "for file in file_path['QPF']:\n",
    "    QPE = pd.read_pickle(os.path.join(args.radar_wrangled_data_folder,'QPE',file),\n",
    "                         compression=args.compression).to_numpy().flatten()\n",
    "    QPF = pd.read_pickle(os.path.join(args.radar_wrangled_data_folder,'QPF',file),\n",
    "                         compression=args.compression).to_numpy().flatten()\n",
    "    QPE = torch.from_numpy(QPE)\n",
    "    QPF = torch.from_numpy(QPF)\n",
    "    bmse += BMSE(QPE,QPF).item()/len(file_path['QPF'])\n",
    "bmse"
   ]
  },
  {
   "cell_type": "code",
   "execution_count": null,
   "metadata": {},
   "outputs": [],
   "source": []
  },
  {
   "cell_type": "code",
   "execution_count": null,
   "metadata": {},
   "outputs": [],
   "source": []
  },
  {
   "cell_type": "code",
   "execution_count": 60,
   "metadata": {},
   "outputs": [
    {
     "data": {
      "text/plain": [
       "array([False, False, False, False,  True, False, False, False, False,\n",
       "       False])"
      ]
     },
     "execution_count": 60,
     "metadata": {},
     "output_type": "execute_result"
    }
   ],
   "source": [
    "(a > 16) & (a < 20)"
   ]
  },
  {
   "cell_type": "code",
   "execution_count": 54,
   "metadata": {},
   "outputs": [
    {
     "data": {
      "text/plain": [
       "array([84, 64, 95, 16, 19, 46, 51, 64, 78, 69])"
      ]
     },
     "execution_count": 54,
     "metadata": {},
     "output_type": "execute_result"
    }
   ],
   "source": [
    "a"
   ]
  },
  {
   "cell_type": "code",
   "execution_count": null,
   "metadata": {},
   "outputs": [],
   "source": []
  }
 ],
 "metadata": {
  "kernelspec": {
   "display_name": "Python 3",
   "language": "python",
   "name": "python3"
  },
  "language_info": {
   "codemirror_mode": {
    "name": "ipython",
    "version": 3
   },
   "file_extension": ".py",
   "mimetype": "text/x-python",
   "name": "python",
   "nbconvert_exporter": "python",
   "pygments_lexer": "ipython3",
   "version": "3.7.3"
  }
 },
 "nbformat": 4,
 "nbformat_minor": 2
}
