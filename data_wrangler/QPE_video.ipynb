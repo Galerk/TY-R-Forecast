{
 "cells": [
  {
   "cell_type": "code",
   "execution_count": 10,
   "metadata": {},
   "outputs": [],
   "source": [
    "%matplotlib inline\n",
    "import os\n",
    "import numpy as np\n",
    "import pandas as pd\n",
    "\n",
    "import matplotlib\n",
    "import matplotlib.pyplot as plt\n",
    "import matplotlib.animation as manimation\n",
    "from mpl_toolkits.basemap import Basemap\n",
    "pd.set_option('precision',4)\n",
    "from args_tools_jupyter import args, createfolder\n",
    "\n",
    "FFMpegWriter = manimation.writers['ffmpeg']\n",
    "metadata = dict(title='Movie Test', artist='Matplotlib',\n",
    "                comment='Movie support!')\n",
    "writer = FFMpegWriter(fps=3, metadata=metadata)"
   ]
  },
  {
   "cell_type": "code",
   "execution_count": 11,
   "metadata": {},
   "outputs": [
    {
     "data": {
      "text/plain": [
       "<Figure size 1920x960 with 0 Axes>"
      ]
     },
     "metadata": {},
     "output_type": "display_data"
    }
   ],
   "source": [
    "m = Basemap(projection='cyl', resolution='h', llcrnrlat=args.O_y[0], urcrnrlat=args.O_y[1], \n",
    "            llcrnrlon=args.O_x[0], urcrnrlon=args.O_x[1])\n",
    "X, Y = np.meshgrid(np.linspace(args.O_x[0],args.O_x[1],args.O_shape[0]), \n",
    "                   np.linspace(args.O_y[0],args.O_y[1],args.O_shape[1]))\n",
    "\n",
    "data_type = ['QPE','RAD']\n",
    "file_list = sorted(os.listdir(os.path.join(args.radar_wrangled_data_folder, data_type[1])))[150:250]\n",
    "\n",
    "fig = plt.figure(figsize=(len(data_type)*8,8), dpi=args.figure_dpi)\n",
    "\n",
    "with writer.saving(fig, \"/home/jack/Desktop/writer_test.mp4\", 200):\n",
    "    for i in range(len(file_list)):\n",
    "        filename = file_list[i]\n",
    "        trackname = file_list[i][:-17]\n",
    "        tracktime = file_list[i][-16:-4]\n",
    "        ty_track = pd.read_csv(os.path.join(args.ty_info_wrangled_data_folder, trackname+'.csv'))\n",
    "        ty_track.Time = pd.to_datetime(ty_track.Time)\n",
    "        ty_track.set_index('Time', inplace=True)\n",
    "        ty_track = ty_track.reindex(columns=['Lat','Lon'])\n",
    "\n",
    "        for idx in range(len(data_type)):\n",
    "            ax = fig.add_subplot(1, len(data_type), idx+1)\n",
    "            data = pd.read_pickle(os.path.join(args.radar_wrangled_data_folder, data_type[idx], filename), compression=args.compression)\n",
    "            _ = m.readshapefile(args.TW_map_file, name='Taiwan', linewidth=0.25, drawbounds=True, color='k', ax=ax)\n",
    "            cs = m.contourf(x=X, y=Y, data=data.to_numpy(), colors=args[data_type[idx]+'_cmap'], levels=args[data_type[idx]+'_level'], ax=ax)\n",
    "            ax.scatter(x=ty_track.loc[tracktime].Lon, y=ty_track.loc[tracktime].Lat, marker='h', color='g', label='Ty Center')\n",
    "            ax.plot(ty_track.Lon, ty_track.Lat, '--', color='gray', label='Ty Path')\n",
    "            ax.set_xlabel(r'longtitude($^o$)',fontdict={'fontsize':10})\n",
    "            ax.set_ylabel(r'latitude($^o$)',fontdict={'fontsize':10})\n",
    "            _ = ax.set_xticks(ticks = np.linspace(args.O_x[0], args.O_x[1], 5))\n",
    "            _ = ax.set_yticks(ticks = np.linspace(args.O_y[0], args.O_y[1], 5))\n",
    "            ax.tick_params('both', labelsize=10)\n",
    "            cbar = fig.colorbar(cs, ax=ax, shrink=0.8)\n",
    "            cbar.ax.tick_params(labelsize=10)\n",
    "            ax.legend(fontsize=10)\n",
    "            ax.set_title(data_type[idx],fontsize=10)\n",
    "            fig.suptitle(filename[:-4])\n",
    "    #     fig.savefig(os.path.join(figures_folder, filename[:-4]+'.png'), dpi=args.figure_dpi, bbox_inches='tight')\n",
    "        writer.grab_frame()\n",
    "        fig.clf()"
   ]
  },
  {
   "cell_type": "code",
   "execution_count": null,
   "metadata": {},
   "outputs": [],
   "source": []
  }
 ],
 "metadata": {
  "kernelspec": {
   "display_name": "Python 3",
   "language": "python",
   "name": "python3"
  },
  "language_info": {
   "codemirror_mode": {
    "name": "ipython",
    "version": 3
   },
   "file_extension": ".py",
   "mimetype": "text/x-python",
   "name": "python",
   "nbconvert_exporter": "python",
   "pygments_lexer": "ipython3",
   "version": "3.7.3"
  }
 },
 "nbformat": 4,
 "nbformat_minor": 2
}
