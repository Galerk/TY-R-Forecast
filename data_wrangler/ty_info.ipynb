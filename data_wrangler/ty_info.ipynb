{
 "cells": [
  {
   "cell_type": "code",
   "execution_count": 1,
   "metadata": {},
   "outputs": [],
   "source": [
    "%matplotlib inline\n",
    "import os\n",
    "import re\n",
    "import datetime as dt\n",
    "import numpy as np\n",
    "import pandas as pd\n",
    "import matplotlib.pyplot as plt\n",
    "from args_tools_jupyter import args, createfolder\n",
    "pd.set_option('precision', 5)"
   ]
  },
  {
   "cell_type": "code",
   "execution_count": 2,
   "metadata": {},
   "outputs": [
    {
     "data": {
      "text/html": [
       "<div>\n",
       "<style scoped>\n",
       "    .dataframe tbody tr th:only-of-type {\n",
       "        vertical-align: middle;\n",
       "    }\n",
       "\n",
       "    .dataframe tbody tr th {\n",
       "        vertical-align: top;\n",
       "    }\n",
       "\n",
       "    .dataframe thead th {\n",
       "        text-align: right;\n",
       "    }\n",
       "</style>\n",
       "<table border=\"1\" class=\"dataframe\">\n",
       "  <thead>\n",
       "    <tr style=\"text-align: right;\">\n",
       "      <th></th>\n",
       "      <th>En name</th>\n",
       "      <th>Ch name</th>\n",
       "      <th>Time of issuing</th>\n",
       "      <th>Time of canceling</th>\n",
       "    </tr>\n",
       "  </thead>\n",
       "  <tbody>\n",
       "    <tr>\n",
       "      <th>0</th>\n",
       "      <td>SAOLA</td>\n",
       "      <td>蘇拉</td>\n",
       "      <td>2012-07-31 21:00:00</td>\n",
       "      <td>2012-08-03 14:00:00</td>\n",
       "    </tr>\n",
       "    <tr>\n",
       "      <th>1</th>\n",
       "      <td>SOULIK</td>\n",
       "      <td>蘇力</td>\n",
       "      <td>2013-07-12 12:00:00</td>\n",
       "      <td>2013-07-13 23:00:00</td>\n",
       "    </tr>\n",
       "    <tr>\n",
       "      <th>2</th>\n",
       "      <td>TRAMI</td>\n",
       "      <td>潭美</td>\n",
       "      <td>2013-08-20 20:00:00</td>\n",
       "      <td>2013-08-22 08:00:00</td>\n",
       "    </tr>\n",
       "    <tr>\n",
       "      <th>3</th>\n",
       "      <td>KONG-REY</td>\n",
       "      <td>康芮</td>\n",
       "      <td>2013-08-28 11:00:00</td>\n",
       "      <td>2013-08-29 17:00:00</td>\n",
       "    </tr>\n",
       "    <tr>\n",
       "      <th>4</th>\n",
       "      <td>USAGI</td>\n",
       "      <td>天兔</td>\n",
       "      <td>2013-09-20 08:00:00</td>\n",
       "      <td>2013-09-22 08:00:00</td>\n",
       "    </tr>\n",
       "    <tr>\n",
       "      <th>5</th>\n",
       "      <td>FITOW</td>\n",
       "      <td>菲特</td>\n",
       "      <td>2013-10-05 14:00:00</td>\n",
       "      <td>2013-10-07 08:00:00</td>\n",
       "    </tr>\n",
       "    <tr>\n",
       "      <th>6</th>\n",
       "      <td>MATMO</td>\n",
       "      <td>麥德姆</td>\n",
       "      <td>2014-07-22 02:00:00</td>\n",
       "      <td>2014-07-23 23:00:00</td>\n",
       "    </tr>\n",
       "    <tr>\n",
       "      <th>7</th>\n",
       "      <td>CHAN-HOM</td>\n",
       "      <td>昌鴻</td>\n",
       "      <td>2015-07-09 20:00:00</td>\n",
       "      <td>2015-07-10 23:00:00</td>\n",
       "    </tr>\n",
       "    <tr>\n",
       "      <th>8</th>\n",
       "      <td>SOUDELOR</td>\n",
       "      <td>蘇迪勒</td>\n",
       "      <td>2015-08-07 09:00:00</td>\n",
       "      <td>2015-08-09 20:00:00</td>\n",
       "    </tr>\n",
       "    <tr>\n",
       "      <th>9</th>\n",
       "      <td>DUJUAN</td>\n",
       "      <td>杜鵑</td>\n",
       "      <td>2015-09-28 06:00:00</td>\n",
       "      <td>2015-09-29 17:00:00</td>\n",
       "    </tr>\n",
       "    <tr>\n",
       "      <th>10</th>\n",
       "      <td>MALAKAS</td>\n",
       "      <td>馬勒卡</td>\n",
       "      <td>2016-09-16 15:00:00</td>\n",
       "      <td>2016-09-18 02:00:00</td>\n",
       "    </tr>\n",
       "    <tr>\n",
       "      <th>11</th>\n",
       "      <td>MEGI</td>\n",
       "      <td>梅姬</td>\n",
       "      <td>2016-09-26 19:00:00</td>\n",
       "      <td>2016-09-28 17:00:00</td>\n",
       "    </tr>\n",
       "    <tr>\n",
       "      <th>12</th>\n",
       "      <td>MARIA</td>\n",
       "      <td>瑪莉亞</td>\n",
       "      <td>2018-07-10 17:00:00</td>\n",
       "      <td>2018-07-11 13:00:00</td>\n",
       "    </tr>\n",
       "  </tbody>\n",
       "</table>\n",
       "</div>"
      ],
      "text/plain": [
       "     En name Ch name     Time of issuing   Time of canceling\n",
       "0      SAOLA      蘇拉 2012-07-31 21:00:00 2012-08-03 14:00:00\n",
       "1     SOULIK      蘇力 2013-07-12 12:00:00 2013-07-13 23:00:00\n",
       "2      TRAMI      潭美 2013-08-20 20:00:00 2013-08-22 08:00:00\n",
       "3   KONG-REY      康芮 2013-08-28 11:00:00 2013-08-29 17:00:00\n",
       "4      USAGI      天兔 2013-09-20 08:00:00 2013-09-22 08:00:00\n",
       "5      FITOW      菲特 2013-10-05 14:00:00 2013-10-07 08:00:00\n",
       "6      MATMO     麥德姆 2014-07-22 02:00:00 2014-07-23 23:00:00\n",
       "7   CHAN-HOM      昌鴻 2015-07-09 20:00:00 2015-07-10 23:00:00\n",
       "8   SOUDELOR     蘇迪勒 2015-08-07 09:00:00 2015-08-09 20:00:00\n",
       "9     DUJUAN      杜鵑 2015-09-28 06:00:00 2015-09-29 17:00:00\n",
       "10   MALAKAS     馬勒卡 2016-09-16 15:00:00 2016-09-18 02:00:00\n",
       "11      MEGI      梅姬 2016-09-26 19:00:00 2016-09-28 17:00:00\n",
       "12     MARIA     瑪莉亞 2018-07-10 17:00:00 2018-07-11 13:00:00"
      ]
     },
     "execution_count": 2,
     "metadata": {},
     "output_type": "execute_result"
    }
   ],
   "source": [
    "ty_list = pd.read_csv(args.ty_list)\n",
    "ty_list['Time of canceling'] = pd.to_datetime(ty_list['Time of canceling'])\n",
    "ty_list['Time of issuing'] = pd.to_datetime(ty_list['Time of issuing'])\n",
    "ty_list"
   ]
  },
  {
   "cell_type": "code",
   "execution_count": 206,
   "metadata": {},
   "outputs": [
    {
     "name": "stdout",
     "output_type": "stream",
     "text": [
      "SAOLA\n",
      "SOULIK\n",
      "TRAMI\n",
      "KONG-REY\n",
      "USAGI\n",
      "FITOW\n",
      "MATMO\n",
      "CHAN-HOM\n",
      "SOUDELOR\n",
      "DUJUAN\n",
      "MALAKAS\n",
      "MEGI\n",
      "MARIA\n"
     ]
    }
   ],
   "source": [
    "createfolder(args.ty_info_wrangled_data_folder)\n",
    "for j in range(len(ty_list)):\n",
    "    year = str(ty_list.iloc[j,-1].year)\n",
    "    tyname = ty_list.iloc[j,0]\n",
    "    print(tyname)\n",
    "    ty_track_path = os.path.join(args.weather_raw_data_folder, year+'.Data',  year+'_TrackData',  year+'.'+tyname+'.Track.txt')\n",
    "    ty_track = pd.read_csv(ty_track_path, sep='\\s+', skiprows=0)\n",
    "    ty_track = ty_track.assign(Time=ty_track.Typhname.astype(str)+' '+ty_track.Date.astype(str))\n",
    "    ty_track = ty_track.drop(columns=['Typhname', 'Date']).reindex(columns=['Time', 'Lat', 'Lon','Press','Wind','Gust','7Dir','10Dir','Warn'])\n",
    "    ty_track.Time = pd.to_datetime(ty_track.Time) + dt.timedelta(hours=8)\n",
    "    ty_track.set_index('Time',inplace=True)\n",
    "    ty_track[ty_track == -99.0] = 0\n",
    "\n",
    "    timestep = ty_track.index[-1]-ty_track.index[0]\n",
    "    timestep = timestep.days*24*6+int(timestep.seconds/3600)\n",
    "    index = pd.Index([ty_track.index[0] + dt.timedelta(hours=x) for x in range(timestep+1)], name='Time')\n",
    "    new_ty_track = pd.DataFrame([],index=index,columns=ty_track.columns)\n",
    "\n",
    "    for i in range(len(ty_track)-1):\n",
    "        timestep = int((ty_track.index[i+1]-ty_track.index[i]).seconds/600)\n",
    "        for k in range(timestep+1):\n",
    "            new_ty_track.loc[ty_track.index[i]+dt.timedelta(hours=k/6),:] = ty_track.iloc[i] + k*(ty_track.iloc[i+1]-ty_track.iloc[i])/timestep\n",
    "    \n",
    "    output_timestep = ty_list.iloc[j,-1]-ty_list.iloc[j,-2]\n",
    "    output_timestep = output_timestep.days*24*6+int(output_timestep.seconds/600)\n",
    "    output_index = pd.Index([ty_list.iloc[j,-2] + dt.timedelta(hours=x/6) for x in range(output_timestep+1)], name='Time')\n",
    "    new_ty_track = new_ty_track.reindex(index=output_index)\n",
    "    outputname = os.path.join(args.ty_info_wrangled_data_folder, year+'.'+tyname+'.csv')\n",
    "    new_ty_track.to_csv(outputname)"
   ]
  },
  {
   "cell_type": "code",
   "execution_count": 47,
   "metadata": {},
   "outputs": [],
   "source": [
    "for idx, file in enumerate(sorted(os.listdir(args.ty_info_wrangled_data_folder))):\n",
    "    data = pd.read_csv(os.path.join(args.ty_info_wrangled_data_folder,file),index_col='Time')\n",
    "    if idx == 0:\n",
    "        tmp_max = np.max(data)\n",
    "        tmp_min = np.min(data)\n",
    "    else:\n",
    "        if (np.max(data) > tmp_max).any():\n",
    "            tmp_max[np.max(data) > tmp_max] = np.max(data)[np.max(data) > tmp_max]\n",
    "        if (np.min(data) < tmp_min).any():\n",
    "            tmp_min[np.min(data) < tmp_min] = np.min(data)[np.min(data) < tmp_min]"
   ]
  },
  {
   "cell_type": "code",
   "execution_count": 51,
   "metadata": {},
   "outputs": [],
   "source": [
    "overall_df = pd.DataFrame({'max_value':tmp_max, 'min_value':tmp_min})\n",
    "overall_df.to_csv(os.path.join(args.ty_info_folder,'overall.csv'))"
   ]
  },
  {
   "cell_type": "code",
   "execution_count": 50,
   "metadata": {},
   "outputs": [
    {
     "data": {
      "text/plain": [
       "'/home/jack/ssd/01_ty_research/03_ty_info'"
      ]
     },
     "execution_count": 50,
     "metadata": {},
     "output_type": "execute_result"
    }
   ],
   "source": [
    "args.ty_info_folder"
   ]
  },
  {
   "cell_type": "code",
   "execution_count": null,
   "metadata": {},
   "outputs": [],
   "source": []
  },
  {
   "cell_type": "code",
   "execution_count": null,
   "metadata": {},
   "outputs": [],
   "source": []
  }
 ],
 "metadata": {
  "kernelspec": {
   "display_name": "Python 3",
   "language": "python",
   "name": "python3"
  },
  "language_info": {
   "codemirror_mode": {
    "name": "ipython",
    "version": 3
   },
   "file_extension": ".py",
   "mimetype": "text/x-python",
   "name": "python",
   "nbconvert_exporter": "python",
   "pygments_lexer": "ipython3",
   "version": "3.6.8"
  }
 },
 "nbformat": 4,
 "nbformat_minor": 2
}
