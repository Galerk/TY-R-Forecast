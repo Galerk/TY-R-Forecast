{
 "cells": [
  {
   "cell_type": "code",
   "execution_count": 56,
   "metadata": {},
   "outputs": [],
   "source": [
    "%matplotlib inline\n",
    "import os\n",
    "import numpy as np\n",
    "import pandas as pd\n",
    "import matplotlib.pyplot as plt\n",
    "import seaborn as sns\n",
    "from mpl_toolkits.basemap import Basemap\n",
    "pd.set_option('precision',4)\n",
    "from args_tools_jupyter import args, createfolder"
   ]
  },
  {
   "cell_type": "code",
   "execution_count": 57,
   "metadata": {},
   "outputs": [
    {
     "name": "stdout",
     "output_type": "stream",
     "text": [
      "dict_keys(['study_area', 'working_folder', 'ty_list', 'sta_list', 'TW_map_file', 'fortran_code_folder', 'radar_folder', 'radar_raw_data_folder', 'radar_compressed_data_folder', 'radar_wrangled_data_folder', 'radar_figures_folder', 'weather_folder', 'weather_raw_data_folder', 'weather_wrangled_data_folder', 'ty_info_folder', 'ty_info_raw_data_folder', 'ty_info_wrangled_data_folder', 'res_degree', 'compression', 'figure_dpi', 'RAD_level', 'QPE_level', 'QPF_level', 'PP01_level', 'PS01_level', 'WD01_level', 'WD02_level', 'RH01_level', 'TX01_level', 'RAD_cmap', 'QPE_cmap', 'QPF_cmap', 'PP01_cmap', 'PS01_cmap', 'WD01_cmap', 'WD02_cmap', 'RH01_cmap', 'TX01_cmap', 'weather_names', 'I_x', 'I_y', 'F_x', 'F_y', 'O_y', 'O_x', 'I_shape', 'F_shape', 'O_shape', 'I_x_iloc', 'I_y_iloc', 'F_x_iloc', 'F_y_iloc', 'I_x_list', 'I_y_list', 'F_x_list', 'F_y_list', 'O_x_list', 'O_y_list'])\n"
     ]
    }
   ],
   "source": [
    "print(args.keys())"
   ]
  },
  {
   "cell_type": "code",
   "execution_count": 4,
   "metadata": {},
   "outputs": [],
   "source": [
    "# import geopandas as gpd\n",
    "# shapefile = gpd.read_file(args.TW_map_file+'.shp')['geometry']\n",
    "# shapefile\n",
    "\n",
    "# import shapefile\n",
    "# shape = shapefile.Reader(args.TW_map_file)\n",
    "# #first feature of the shapefile\n",
    "# writer = pd.ExcelWriter('test.xlsx', engine='xlsxwriter')\n",
    "# all_points = pd.DataFrame([],columns=pd.Index(['lon','lat']))\n",
    "# fig = plt.figure(dpi=args.figure_dpi)\n",
    "# ax = plt.gca()\n",
    "# for record, shape in zip(shape.records(), shape.shapes()):\n",
    "#     points = pd.DataFrame(shape.points, columns=pd.Index(['lon','lat']), \n",
    "#                           index=pd.Index(np.arange(len(shape.points)), name=record[8]))\n",
    "#     points.to_excel(writer, sheet_name=record[8])\n",
    "#     all_points = pd.concat([all_points, points], axis=0)\n",
    "#     ax.plot(points.lon, points.lat, 'k.', markersize=0.1)\n",
    "#     ax.axis('scaled')\n",
    "# writer.save()"
   ]
  },
  {
   "cell_type": "markdown",
   "metadata": {},
   "source": [
    "## Taiwan"
   ]
  },
  {
   "cell_type": "code",
   "execution_count": 15,
   "metadata": {},
   "outputs": [
    {
     "name": "stdout",
     "output_type": "stream",
     "text": [
      "QPE 1 2012.SAOLA.201207312100.pkl\n",
      "QPE 1001 2013.SOULIK.201307130110.pkl\n",
      "QPE 2001 2015.CHAN-HOM.201507101110.pkl\n",
      "QPE 3001 2016.MALAKAS.201609171820.pkl\n",
      "QPF 1 2012.SAOLA.201207312100.pkl\n",
      "QPF 1001 2013.SOULIK.201307131120.pkl\n",
      "QPF 2001 2015.CHAN-HOM.201507102210.pkl\n",
      "RAD 1 2012.SAOLA.201207312100.pkl\n",
      "RAD 1001 2013.SOULIK.201307130110.pkl\n",
      "RAD 2001 2015.CHAN-HOM.201507101110.pkl\n",
      "RAD 3001 2016.MALAKAS.201609171820.pkl\n"
     ]
    },
    {
     "data": {
      "text/plain": [
       "<Figure size 900x600 with 0 Axes>"
      ]
     },
     "metadata": {},
     "output_type": "display_data"
    }
   ],
   "source": [
    "m = Basemap(projection='cyl', resolution='h', llcrnrlat=args.O_y[0], urcrnrlat=args.O_y[1], \n",
    "            llcrnrlon=args.O_x[0], urcrnrlon=args.O_x[1])\n",
    "\n",
    "figures_folder = os.path.join(args.radar_figures_folder, 'Taiwan')\n",
    "\n",
    "X, Y = np.meshgrid(np.linspace(args.O_x[0],args.O_x[1],args.O_shape[0]), \n",
    "                   np.linspace(args.O_y[0],args.O_y[1],args.O_shape[1]))\n",
    "\n",
    "fig = plt.figure(dpi=args.figure_dpi)\n",
    "createfolder(os.path.join(figures_folder))\n",
    "for i in sorted(os.listdir(args.wrangled_radar_folder)):\n",
    "    createfolder(os.path.join(figures_folder, i))\n",
    "    for idx, j in enumerate(sorted(os.listdir(os.path.join(args.wrangled_radar_folder, i)))):\n",
    "        ax = plt.gca()\n",
    "        data = pd.read_pickle(os.path.join(args.wrangled_radar_folder, i, j), compression=args.compression)\n",
    "        _ = m.readshapefile(args.TW_map_file, name='Taiwan', linewidth=0.25, drawbounds=True, color='k', ax=ax)\n",
    "        cs = m.contourf(x=X, y=Y, data=data.values, colors=args[i+'_cmap'], levels=args[i+'_level'], ax=ax)\n",
    "        ax.set_xlabel(r'longtitude($^o$)',fontdict={'fontsize':7})\n",
    "        ax.set_ylabel(r'latitude($^o$)',fontdict={'fontsize':7})\n",
    "        _ = ax.set_xticks(ticks = np.linspace(args.O_x[0], args.O_x[1], 5))\n",
    "        _ = ax.set_yticks(ticks = np.linspace(args.O_y[0], args.O_y[1], 5))\n",
    "        ax.tick_params('both', labelsize=7)\n",
    "        cbar = fig.colorbar(cs)\n",
    "        cbar.ax.tick_params(labelsize=7)\n",
    "        fig.savefig(os.path.join(figures_folder, i, j[:-4]+'.png'), dpi=150, bbox_inches='tight')\n",
    "        # 清除 axes 重新宣告 axes畫圖\n",
    "        ax.cla()\n",
    "        # 清空 fig畫布\n",
    "        fig.clf()\n",
    "        if idx % 1000 == 0:\n",
    "            print(i, idx+1, j)"
   ]
  },
  {
   "cell_type": "markdown",
   "metadata": {},
   "source": [
    "## Taipei"
   ]
  },
  {
   "cell_type": "code",
   "execution_count": 4,
   "metadata": {},
   "outputs": [
    {
     "name": "stdout",
     "output_type": "stream",
     "text": [
      "QPE 1 2012.SAOLA.201207312100.png\n",
      "QPE 1001 2013.SOULIK.201307130110.png\n",
      "QPE 2001 2015.CHAN-HOM.201507101110.png\n",
      "QPE 3001 2016.MALAKAS.201609171820.png\n",
      "QPF 1 2012.SAOLA.201207312100.png\n",
      "QPF 1001 2013.SOULIK.201307131120.png\n",
      "QPF 2001 2015.CHAN-HOM.201507102210.png\n",
      "RAD 1 2012.SAOLA.201207312100.png\n",
      "RAD 1001 2013.SOULIK.201307130110.png\n",
      "RAD 2001 2015.CHAN-HOM.201507101110.png\n",
      "RAD 3001 2016.MALAKAS.201609171820.png\n"
     ]
    },
    {
     "data": {
      "text/plain": [
       "<Figure size 900x600 with 0 Axes>"
      ]
     },
     "metadata": {},
     "output_type": "display_data"
    }
   ],
   "source": [
    "m= Basemap(projection='cyl', resolution='h', llcrnrlat=args.I_y[0], \n",
    "           urcrnrlat=args.I_y[1], llcrnrlon=args.I_x[0], urcrnrlon=args.I_x[1])\n",
    "\n",
    "figures_folder = os.path.join(args.radar_figures_folder, 'Taipei')\n",
    "\n",
    "X, Y = np.meshgrid(np.linspace(args.O_x[0],args.O_x[1],args.O_shape[0]), \n",
    "                   np.linspace(args.O_y[0],args.O_y[1],args.O_shape[1]))\n",
    "\n",
    "fig = plt.figure(dpi=args.figure_dpi)\n",
    "\n",
    "for i in sorted(os.listdir(args.wrangled_radar_folder)):\n",
    "    createfolder(os.path.join(figures_folder, i))\n",
    "    for idx, j in enumerate(sorted(os.listdir(os.path.join(args.wrangled_radar_folder, i)))):\n",
    "        ax = plt.gca()\n",
    "        data = pd.read_pickle(os.path.join(args.wrangled_radar_folder, i, j), compression=args.compression)\n",
    "        _ = m.readshapefile(args.TW_map_file, name='Taiwan', linewidth=0.25, drawbounds=True, color='k', ax=ax)\n",
    "        cs = m.contourf(x=X, y=Y, data=data, colors=args[i+'_cmap'], levels=args[i+'_level'], ax=ax)\n",
    "        ax.set_xlabel(r'longtitude($^o$)',fontdict={'fontsize':7})\n",
    "        ax.set_ylabel(r'latitude($^o$)',fontdict={'fontsize':7})\n",
    "        _ = ax.set_xticks(ticks = np.linspace(args.I_x[0], args.I_x[1], 5))\n",
    "        _ = ax.set_yticks(ticks = np.linspace(args.I_y[0], args.I_y[1], 5))\n",
    "        ax.tick_params('both', labelsize=7)\n",
    "        cbar = fig.colorbar(cs)\n",
    "        cbar.ax.tick_params(labelsize=7)\n",
    "        fig.savefig(os.path.join(figures_folder, i, j[:-4]+'.png'), dpi=150, bbox_inches='tight')\n",
    "        if idx % 1000 == 0:\n",
    "            print(i, idx+1, j[:-4]+'.png')\n",
    "        # 清除 axes 重新宣告 axes畫圖\n",
    "        ax.cla()\n",
    "        # 清空 fig畫布\n",
    "        fig.clf()"
   ]
  },
  {
   "cell_type": "markdown",
   "metadata": {},
   "source": [
    "### Plot all data together in TW"
   ]
  },
  {
   "cell_type": "code",
   "execution_count": 3,
   "metadata": {},
   "outputs": [],
   "source": [
    "m = Basemap(projection='cyl', resolution='h', llcrnrlat=args.O_y[0], urcrnrlat=args.O_y[1], \n",
    "            llcrnrlon=args.O_x[0], urcrnrlon=args.O_x[1])"
   ]
  },
  {
   "cell_type": "markdown",
   "metadata": {},
   "source": [
    "## original"
   ]
  },
  {
   "cell_type": "code",
   "execution_count": 81,
   "metadata": {},
   "outputs": [
    {
     "ename": "KeyError",
     "evalue": "'201807111310'",
     "output_type": "error",
     "traceback": [
      "\u001b[0;31m---------------------------------------------------------------------------\u001b[0m",
      "\u001b[0;31mTypeError\u001b[0m                                 Traceback (most recent call last)",
      "\u001b[0;32mpandas/_libs/index.pyx\u001b[0m in \u001b[0;36mpandas._libs.index.DatetimeEngine.get_loc\u001b[0;34m()\u001b[0m\n",
      "\u001b[0;32mpandas/_libs/hashtable_class_helper.pxi\u001b[0m in \u001b[0;36mpandas._libs.hashtable.Int64HashTable.get_item\u001b[0;34m()\u001b[0m\n",
      "\u001b[0;31mTypeError\u001b[0m: an integer is required",
      "\nDuring handling of the above exception, another exception occurred:\n",
      "\u001b[0;31mKeyError\u001b[0m                                  Traceback (most recent call last)",
      "\u001b[0;32m~/anaconda3/lib/python3.7/site-packages/pandas/core/indexes/base.py\u001b[0m in \u001b[0;36mget_loc\u001b[0;34m(self, key, method, tolerance)\u001b[0m\n\u001b[1;32m   2656\u001b[0m             \u001b[0;32mtry\u001b[0m\u001b[0;34m:\u001b[0m\u001b[0;34m\u001b[0m\u001b[0;34m\u001b[0m\u001b[0m\n\u001b[0;32m-> 2657\u001b[0;31m                 \u001b[0;32mreturn\u001b[0m \u001b[0mself\u001b[0m\u001b[0;34m.\u001b[0m\u001b[0m_engine\u001b[0m\u001b[0;34m.\u001b[0m\u001b[0mget_loc\u001b[0m\u001b[0;34m(\u001b[0m\u001b[0mkey\u001b[0m\u001b[0;34m)\u001b[0m\u001b[0;34m\u001b[0m\u001b[0;34m\u001b[0m\u001b[0m\n\u001b[0m\u001b[1;32m   2658\u001b[0m             \u001b[0;32mexcept\u001b[0m \u001b[0mKeyError\u001b[0m\u001b[0;34m:\u001b[0m\u001b[0;34m\u001b[0m\u001b[0;34m\u001b[0m\u001b[0m\n",
      "\u001b[0;32mpandas/_libs/index.pyx\u001b[0m in \u001b[0;36mpandas._libs.index.DatetimeEngine.get_loc\u001b[0;34m()\u001b[0m\n",
      "\u001b[0;32mpandas/_libs/index.pyx\u001b[0m in \u001b[0;36mpandas._libs.index.DatetimeEngine.get_loc\u001b[0;34m()\u001b[0m\n",
      "\u001b[0;32mpandas/_libs/index.pyx\u001b[0m in \u001b[0;36mpandas._libs.index.DatetimeEngine._date_check_type\u001b[0;34m()\u001b[0m\n",
      "\u001b[0;31mKeyError\u001b[0m: '201807111310'",
      "\nDuring handling of the above exception, another exception occurred:\n",
      "\u001b[0;31mKeyError\u001b[0m                                  Traceback (most recent call last)",
      "\u001b[0;32m~/anaconda3/lib/python3.7/site-packages/pandas/core/indexes/datetimes.py\u001b[0m in \u001b[0;36mget_loc\u001b[0;34m(self, key, method, tolerance)\u001b[0m\n\u001b[1;32m   1008\u001b[0m         \u001b[0;32mtry\u001b[0m\u001b[0;34m:\u001b[0m\u001b[0;34m\u001b[0m\u001b[0;34m\u001b[0m\u001b[0m\n\u001b[0;32m-> 1009\u001b[0;31m             \u001b[0;32mreturn\u001b[0m \u001b[0mIndex\u001b[0m\u001b[0;34m.\u001b[0m\u001b[0mget_loc\u001b[0m\u001b[0;34m(\u001b[0m\u001b[0mself\u001b[0m\u001b[0;34m,\u001b[0m \u001b[0mkey\u001b[0m\u001b[0;34m,\u001b[0m \u001b[0mmethod\u001b[0m\u001b[0;34m,\u001b[0m \u001b[0mtolerance\u001b[0m\u001b[0;34m)\u001b[0m\u001b[0;34m\u001b[0m\u001b[0;34m\u001b[0m\u001b[0m\n\u001b[0m\u001b[1;32m   1010\u001b[0m         \u001b[0;32mexcept\u001b[0m \u001b[0;34m(\u001b[0m\u001b[0mKeyError\u001b[0m\u001b[0;34m,\u001b[0m \u001b[0mValueError\u001b[0m\u001b[0;34m,\u001b[0m \u001b[0mTypeError\u001b[0m\u001b[0;34m)\u001b[0m\u001b[0;34m:\u001b[0m\u001b[0;34m\u001b[0m\u001b[0;34m\u001b[0m\u001b[0m\n",
      "\u001b[0;32m~/anaconda3/lib/python3.7/site-packages/pandas/core/indexes/base.py\u001b[0m in \u001b[0;36mget_loc\u001b[0;34m(self, key, method, tolerance)\u001b[0m\n\u001b[1;32m   2658\u001b[0m             \u001b[0;32mexcept\u001b[0m \u001b[0mKeyError\u001b[0m\u001b[0;34m:\u001b[0m\u001b[0;34m\u001b[0m\u001b[0;34m\u001b[0m\u001b[0m\n\u001b[0;32m-> 2659\u001b[0;31m                 \u001b[0;32mreturn\u001b[0m \u001b[0mself\u001b[0m\u001b[0;34m.\u001b[0m\u001b[0m_engine\u001b[0m\u001b[0;34m.\u001b[0m\u001b[0mget_loc\u001b[0m\u001b[0;34m(\u001b[0m\u001b[0mself\u001b[0m\u001b[0;34m.\u001b[0m\u001b[0m_maybe_cast_indexer\u001b[0m\u001b[0;34m(\u001b[0m\u001b[0mkey\u001b[0m\u001b[0;34m)\u001b[0m\u001b[0;34m)\u001b[0m\u001b[0;34m\u001b[0m\u001b[0;34m\u001b[0m\u001b[0m\n\u001b[0m\u001b[1;32m   2660\u001b[0m         \u001b[0mindexer\u001b[0m \u001b[0;34m=\u001b[0m \u001b[0mself\u001b[0m\u001b[0;34m.\u001b[0m\u001b[0mget_indexer\u001b[0m\u001b[0;34m(\u001b[0m\u001b[0;34m[\u001b[0m\u001b[0mkey\u001b[0m\u001b[0;34m]\u001b[0m\u001b[0;34m,\u001b[0m \u001b[0mmethod\u001b[0m\u001b[0;34m=\u001b[0m\u001b[0mmethod\u001b[0m\u001b[0;34m,\u001b[0m \u001b[0mtolerance\u001b[0m\u001b[0;34m=\u001b[0m\u001b[0mtolerance\u001b[0m\u001b[0;34m)\u001b[0m\u001b[0;34m\u001b[0m\u001b[0;34m\u001b[0m\u001b[0m\n",
      "\u001b[0;32mpandas/_libs/index.pyx\u001b[0m in \u001b[0;36mpandas._libs.index.DatetimeEngine.get_loc\u001b[0;34m()\u001b[0m\n",
      "\u001b[0;32mpandas/_libs/index.pyx\u001b[0m in \u001b[0;36mpandas._libs.index.DatetimeEngine.get_loc\u001b[0;34m()\u001b[0m\n",
      "\u001b[0;32mpandas/_libs/index.pyx\u001b[0m in \u001b[0;36mpandas._libs.index.DatetimeEngine._date_check_type\u001b[0;34m()\u001b[0m\n",
      "\u001b[0;31mKeyError\u001b[0m: '201807111310'",
      "\nDuring handling of the above exception, another exception occurred:\n",
      "\u001b[0;31mKeyError\u001b[0m                                  Traceback (most recent call last)",
      "\u001b[0;32m~/anaconda3/lib/python3.7/site-packages/pandas/core/indexes/base.py\u001b[0m in \u001b[0;36mget_loc\u001b[0;34m(self, key, method, tolerance)\u001b[0m\n\u001b[1;32m   2656\u001b[0m             \u001b[0;32mtry\u001b[0m\u001b[0;34m:\u001b[0m\u001b[0;34m\u001b[0m\u001b[0;34m\u001b[0m\u001b[0m\n\u001b[0;32m-> 2657\u001b[0;31m                 \u001b[0;32mreturn\u001b[0m \u001b[0mself\u001b[0m\u001b[0;34m.\u001b[0m\u001b[0m_engine\u001b[0m\u001b[0;34m.\u001b[0m\u001b[0mget_loc\u001b[0m\u001b[0;34m(\u001b[0m\u001b[0mkey\u001b[0m\u001b[0;34m)\u001b[0m\u001b[0;34m\u001b[0m\u001b[0;34m\u001b[0m\u001b[0m\n\u001b[0m\u001b[1;32m   2658\u001b[0m             \u001b[0;32mexcept\u001b[0m \u001b[0mKeyError\u001b[0m\u001b[0;34m:\u001b[0m\u001b[0;34m\u001b[0m\u001b[0;34m\u001b[0m\u001b[0m\n",
      "\u001b[0;32mpandas/_libs/index.pyx\u001b[0m in \u001b[0;36mpandas._libs.index.DatetimeEngine.get_loc\u001b[0;34m()\u001b[0m\n",
      "\u001b[0;32mpandas/_libs/index.pyx\u001b[0m in \u001b[0;36mpandas._libs.index.DatetimeEngine.get_loc\u001b[0;34m()\u001b[0m\n",
      "\u001b[0;31mKeyError\u001b[0m: Timestamp('2018-07-11 13:10:00')",
      "\nDuring handling of the above exception, another exception occurred:\n",
      "\u001b[0;31mKeyError\u001b[0m                                  Traceback (most recent call last)",
      "\u001b[0;32m~/anaconda3/lib/python3.7/site-packages/pandas/core/indexes/datetimes.py\u001b[0m in \u001b[0;36mget_loc\u001b[0;34m(self, key, method, tolerance)\u001b[0m\n\u001b[1;32m   1021\u001b[0m                     \u001b[0mstamp\u001b[0m \u001b[0;34m=\u001b[0m \u001b[0mstamp\u001b[0m\u001b[0;34m.\u001b[0m\u001b[0mtz_localize\u001b[0m\u001b[0;34m(\u001b[0m\u001b[0mself\u001b[0m\u001b[0;34m.\u001b[0m\u001b[0mtz\u001b[0m\u001b[0;34m)\u001b[0m\u001b[0;34m\u001b[0m\u001b[0;34m\u001b[0m\u001b[0m\n\u001b[0;32m-> 1022\u001b[0;31m                 \u001b[0;32mreturn\u001b[0m \u001b[0mIndex\u001b[0m\u001b[0;34m.\u001b[0m\u001b[0mget_loc\u001b[0m\u001b[0;34m(\u001b[0m\u001b[0mself\u001b[0m\u001b[0;34m,\u001b[0m \u001b[0mstamp\u001b[0m\u001b[0;34m,\u001b[0m \u001b[0mmethod\u001b[0m\u001b[0;34m,\u001b[0m \u001b[0mtolerance\u001b[0m\u001b[0;34m)\u001b[0m\u001b[0;34m\u001b[0m\u001b[0;34m\u001b[0m\u001b[0m\n\u001b[0m\u001b[1;32m   1023\u001b[0m             \u001b[0;32mexcept\u001b[0m \u001b[0mKeyError\u001b[0m\u001b[0;34m:\u001b[0m\u001b[0;34m\u001b[0m\u001b[0;34m\u001b[0m\u001b[0m\n",
      "\u001b[0;32m~/anaconda3/lib/python3.7/site-packages/pandas/core/indexes/base.py\u001b[0m in \u001b[0;36mget_loc\u001b[0;34m(self, key, method, tolerance)\u001b[0m\n\u001b[1;32m   2658\u001b[0m             \u001b[0;32mexcept\u001b[0m \u001b[0mKeyError\u001b[0m\u001b[0;34m:\u001b[0m\u001b[0;34m\u001b[0m\u001b[0;34m\u001b[0m\u001b[0m\n\u001b[0;32m-> 2659\u001b[0;31m                 \u001b[0;32mreturn\u001b[0m \u001b[0mself\u001b[0m\u001b[0;34m.\u001b[0m\u001b[0m_engine\u001b[0m\u001b[0;34m.\u001b[0m\u001b[0mget_loc\u001b[0m\u001b[0;34m(\u001b[0m\u001b[0mself\u001b[0m\u001b[0;34m.\u001b[0m\u001b[0m_maybe_cast_indexer\u001b[0m\u001b[0;34m(\u001b[0m\u001b[0mkey\u001b[0m\u001b[0;34m)\u001b[0m\u001b[0;34m)\u001b[0m\u001b[0;34m\u001b[0m\u001b[0;34m\u001b[0m\u001b[0m\n\u001b[0m\u001b[1;32m   2660\u001b[0m         \u001b[0mindexer\u001b[0m \u001b[0;34m=\u001b[0m \u001b[0mself\u001b[0m\u001b[0;34m.\u001b[0m\u001b[0mget_indexer\u001b[0m\u001b[0;34m(\u001b[0m\u001b[0;34m[\u001b[0m\u001b[0mkey\u001b[0m\u001b[0;34m]\u001b[0m\u001b[0;34m,\u001b[0m \u001b[0mmethod\u001b[0m\u001b[0;34m=\u001b[0m\u001b[0mmethod\u001b[0m\u001b[0;34m,\u001b[0m \u001b[0mtolerance\u001b[0m\u001b[0;34m=\u001b[0m\u001b[0mtolerance\u001b[0m\u001b[0;34m)\u001b[0m\u001b[0;34m\u001b[0m\u001b[0;34m\u001b[0m\u001b[0m\n",
      "\u001b[0;32mpandas/_libs/index.pyx\u001b[0m in \u001b[0;36mpandas._libs.index.DatetimeEngine.get_loc\u001b[0;34m()\u001b[0m\n",
      "\u001b[0;32mpandas/_libs/index.pyx\u001b[0m in \u001b[0;36mpandas._libs.index.DatetimeEngine.get_loc\u001b[0;34m()\u001b[0m\n",
      "\u001b[0;31mKeyError\u001b[0m: Timestamp('2018-07-11 13:10:00')",
      "\nDuring handling of the above exception, another exception occurred:\n",
      "\u001b[0;31mKeyError\u001b[0m                                  Traceback (most recent call last)",
      "\u001b[0;32m<ipython-input-81-7f8b826125a1>\u001b[0m in \u001b[0;36m<module>\u001b[0;34m\u001b[0m\n\u001b[1;32m     24\u001b[0m         \u001b[0m_\u001b[0m \u001b[0;34m=\u001b[0m \u001b[0mm\u001b[0m\u001b[0;34m.\u001b[0m\u001b[0mreadshapefile\u001b[0m\u001b[0;34m(\u001b[0m\u001b[0margs\u001b[0m\u001b[0;34m.\u001b[0m\u001b[0mTW_map_file\u001b[0m\u001b[0;34m,\u001b[0m \u001b[0mname\u001b[0m\u001b[0;34m=\u001b[0m\u001b[0;34m'Taiwan'\u001b[0m\u001b[0;34m,\u001b[0m \u001b[0mlinewidth\u001b[0m\u001b[0;34m=\u001b[0m\u001b[0;36m0.25\u001b[0m\u001b[0;34m,\u001b[0m \u001b[0mdrawbounds\u001b[0m\u001b[0;34m=\u001b[0m\u001b[0;32mTrue\u001b[0m\u001b[0;34m,\u001b[0m \u001b[0mcolor\u001b[0m\u001b[0;34m=\u001b[0m\u001b[0;34m'k'\u001b[0m\u001b[0;34m,\u001b[0m \u001b[0max\u001b[0m\u001b[0;34m=\u001b[0m\u001b[0max\u001b[0m\u001b[0;34m)\u001b[0m\u001b[0;34m\u001b[0m\u001b[0;34m\u001b[0m\u001b[0m\n\u001b[1;32m     25\u001b[0m         \u001b[0mcs\u001b[0m \u001b[0;34m=\u001b[0m \u001b[0mm\u001b[0m\u001b[0;34m.\u001b[0m\u001b[0mcontourf\u001b[0m\u001b[0;34m(\u001b[0m\u001b[0mx\u001b[0m\u001b[0;34m=\u001b[0m\u001b[0mX\u001b[0m\u001b[0;34m,\u001b[0m \u001b[0my\u001b[0m\u001b[0;34m=\u001b[0m\u001b[0mY\u001b[0m\u001b[0;34m,\u001b[0m \u001b[0mdata\u001b[0m\u001b[0;34m=\u001b[0m\u001b[0mdata\u001b[0m\u001b[0;34m.\u001b[0m\u001b[0mto_numpy\u001b[0m\u001b[0;34m(\u001b[0m\u001b[0;34m)\u001b[0m\u001b[0;34m,\u001b[0m \u001b[0mcolors\u001b[0m\u001b[0;34m=\u001b[0m\u001b[0margs\u001b[0m\u001b[0;34m[\u001b[0m\u001b[0mdata_type\u001b[0m\u001b[0;34m[\u001b[0m\u001b[0midx\u001b[0m\u001b[0;34m]\u001b[0m\u001b[0;34m+\u001b[0m\u001b[0;34m'_cmap'\u001b[0m\u001b[0;34m]\u001b[0m\u001b[0;34m,\u001b[0m \u001b[0mlevels\u001b[0m\u001b[0;34m=\u001b[0m\u001b[0margs\u001b[0m\u001b[0;34m[\u001b[0m\u001b[0mdata_type\u001b[0m\u001b[0;34m[\u001b[0m\u001b[0midx\u001b[0m\u001b[0;34m]\u001b[0m\u001b[0;34m+\u001b[0m\u001b[0;34m'_level'\u001b[0m\u001b[0;34m]\u001b[0m\u001b[0;34m,\u001b[0m \u001b[0max\u001b[0m\u001b[0;34m=\u001b[0m\u001b[0max\u001b[0m\u001b[0;34m)\u001b[0m\u001b[0;34m\u001b[0m\u001b[0;34m\u001b[0m\u001b[0m\n\u001b[0;32m---> 26\u001b[0;31m         \u001b[0max\u001b[0m\u001b[0;34m.\u001b[0m\u001b[0mscatter\u001b[0m\u001b[0;34m(\u001b[0m\u001b[0mx\u001b[0m\u001b[0;34m=\u001b[0m\u001b[0mty_track\u001b[0m\u001b[0;34m.\u001b[0m\u001b[0mloc\u001b[0m\u001b[0;34m[\u001b[0m\u001b[0mtracktime\u001b[0m\u001b[0;34m]\u001b[0m\u001b[0;34m.\u001b[0m\u001b[0mLon\u001b[0m\u001b[0;34m,\u001b[0m \u001b[0my\u001b[0m\u001b[0;34m=\u001b[0m\u001b[0mty_track\u001b[0m\u001b[0;34m.\u001b[0m\u001b[0mloc\u001b[0m\u001b[0;34m[\u001b[0m\u001b[0mtracktime\u001b[0m\u001b[0;34m]\u001b[0m\u001b[0;34m.\u001b[0m\u001b[0mLat\u001b[0m\u001b[0;34m,\u001b[0m \u001b[0mmarker\u001b[0m\u001b[0;34m=\u001b[0m\u001b[0;34m'h'\u001b[0m\u001b[0;34m,\u001b[0m \u001b[0mcolor\u001b[0m\u001b[0;34m=\u001b[0m\u001b[0;34m'g'\u001b[0m\u001b[0;34m,\u001b[0m \u001b[0mlabel\u001b[0m\u001b[0;34m=\u001b[0m\u001b[0;34m'Ty Center'\u001b[0m\u001b[0;34m)\u001b[0m\u001b[0;34m\u001b[0m\u001b[0;34m\u001b[0m\u001b[0m\n\u001b[0m\u001b[1;32m     27\u001b[0m         \u001b[0max\u001b[0m\u001b[0;34m.\u001b[0m\u001b[0mplot\u001b[0m\u001b[0;34m(\u001b[0m\u001b[0mty_track\u001b[0m\u001b[0;34m.\u001b[0m\u001b[0mLon\u001b[0m\u001b[0;34m,\u001b[0m \u001b[0mty_track\u001b[0m\u001b[0;34m.\u001b[0m\u001b[0mLat\u001b[0m\u001b[0;34m,\u001b[0m \u001b[0;34m'--'\u001b[0m\u001b[0;34m,\u001b[0m \u001b[0mcolor\u001b[0m\u001b[0;34m=\u001b[0m\u001b[0;34m'gray'\u001b[0m\u001b[0;34m,\u001b[0m \u001b[0mlabel\u001b[0m\u001b[0;34m=\u001b[0m\u001b[0;34m'Ty Path'\u001b[0m\u001b[0;34m)\u001b[0m\u001b[0;34m\u001b[0m\u001b[0;34m\u001b[0m\u001b[0m\n\u001b[1;32m     28\u001b[0m         \u001b[0max\u001b[0m\u001b[0;34m.\u001b[0m\u001b[0mset_xlabel\u001b[0m\u001b[0;34m(\u001b[0m\u001b[0;34mr'longtitude($^o$)'\u001b[0m\u001b[0;34m,\u001b[0m\u001b[0mfontdict\u001b[0m\u001b[0;34m=\u001b[0m\u001b[0;34m{\u001b[0m\u001b[0;34m'fontsize'\u001b[0m\u001b[0;34m:\u001b[0m\u001b[0;36m10\u001b[0m\u001b[0;34m}\u001b[0m\u001b[0;34m)\u001b[0m\u001b[0;34m\u001b[0m\u001b[0;34m\u001b[0m\u001b[0m\n",
      "\u001b[0;32m~/anaconda3/lib/python3.7/site-packages/pandas/core/indexing.py\u001b[0m in \u001b[0;36m__getitem__\u001b[0;34m(self, key)\u001b[0m\n\u001b[1;32m   1498\u001b[0m \u001b[0;34m\u001b[0m\u001b[0m\n\u001b[1;32m   1499\u001b[0m             \u001b[0mmaybe_callable\u001b[0m \u001b[0;34m=\u001b[0m \u001b[0mcom\u001b[0m\u001b[0;34m.\u001b[0m\u001b[0mapply_if_callable\u001b[0m\u001b[0;34m(\u001b[0m\u001b[0mkey\u001b[0m\u001b[0;34m,\u001b[0m \u001b[0mself\u001b[0m\u001b[0;34m.\u001b[0m\u001b[0mobj\u001b[0m\u001b[0;34m)\u001b[0m\u001b[0;34m\u001b[0m\u001b[0;34m\u001b[0m\u001b[0m\n\u001b[0;32m-> 1500\u001b[0;31m             \u001b[0;32mreturn\u001b[0m \u001b[0mself\u001b[0m\u001b[0;34m.\u001b[0m\u001b[0m_getitem_axis\u001b[0m\u001b[0;34m(\u001b[0m\u001b[0mmaybe_callable\u001b[0m\u001b[0;34m,\u001b[0m \u001b[0maxis\u001b[0m\u001b[0;34m=\u001b[0m\u001b[0maxis\u001b[0m\u001b[0;34m)\u001b[0m\u001b[0;34m\u001b[0m\u001b[0;34m\u001b[0m\u001b[0m\n\u001b[0m\u001b[1;32m   1501\u001b[0m \u001b[0;34m\u001b[0m\u001b[0m\n\u001b[1;32m   1502\u001b[0m     \u001b[0;32mdef\u001b[0m \u001b[0m_is_scalar_access\u001b[0m\u001b[0;34m(\u001b[0m\u001b[0mself\u001b[0m\u001b[0;34m,\u001b[0m \u001b[0mkey\u001b[0m\u001b[0;34m)\u001b[0m\u001b[0;34m:\u001b[0m\u001b[0;34m\u001b[0m\u001b[0;34m\u001b[0m\u001b[0m\n",
      "\u001b[0;32m~/anaconda3/lib/python3.7/site-packages/pandas/core/indexing.py\u001b[0m in \u001b[0;36m_getitem_axis\u001b[0;34m(self, key, axis)\u001b[0m\n\u001b[1;32m   1911\u001b[0m         \u001b[0;31m# fall thru to straight lookup\u001b[0m\u001b[0;34m\u001b[0m\u001b[0;34m\u001b[0m\u001b[0;34m\u001b[0m\u001b[0m\n\u001b[1;32m   1912\u001b[0m         \u001b[0mself\u001b[0m\u001b[0;34m.\u001b[0m\u001b[0m_validate_key\u001b[0m\u001b[0;34m(\u001b[0m\u001b[0mkey\u001b[0m\u001b[0;34m,\u001b[0m \u001b[0maxis\u001b[0m\u001b[0;34m)\u001b[0m\u001b[0;34m\u001b[0m\u001b[0;34m\u001b[0m\u001b[0m\n\u001b[0;32m-> 1913\u001b[0;31m         \u001b[0;32mreturn\u001b[0m \u001b[0mself\u001b[0m\u001b[0;34m.\u001b[0m\u001b[0m_get_label\u001b[0m\u001b[0;34m(\u001b[0m\u001b[0mkey\u001b[0m\u001b[0;34m,\u001b[0m \u001b[0maxis\u001b[0m\u001b[0;34m=\u001b[0m\u001b[0maxis\u001b[0m\u001b[0;34m)\u001b[0m\u001b[0;34m\u001b[0m\u001b[0;34m\u001b[0m\u001b[0m\n\u001b[0m\u001b[1;32m   1914\u001b[0m \u001b[0;34m\u001b[0m\u001b[0m\n\u001b[1;32m   1915\u001b[0m \u001b[0;34m\u001b[0m\u001b[0m\n",
      "\u001b[0;32m~/anaconda3/lib/python3.7/site-packages/pandas/core/indexing.py\u001b[0m in \u001b[0;36m_get_label\u001b[0;34m(self, label, axis)\u001b[0m\n\u001b[1;32m    139\u001b[0m             \u001b[0;32mraise\u001b[0m \u001b[0mIndexingError\u001b[0m\u001b[0;34m(\u001b[0m\u001b[0;34m'no slices here, handle elsewhere'\u001b[0m\u001b[0;34m)\u001b[0m\u001b[0;34m\u001b[0m\u001b[0;34m\u001b[0m\u001b[0m\n\u001b[1;32m    140\u001b[0m \u001b[0;34m\u001b[0m\u001b[0m\n\u001b[0;32m--> 141\u001b[0;31m         \u001b[0;32mreturn\u001b[0m \u001b[0mself\u001b[0m\u001b[0;34m.\u001b[0m\u001b[0mobj\u001b[0m\u001b[0;34m.\u001b[0m\u001b[0m_xs\u001b[0m\u001b[0;34m(\u001b[0m\u001b[0mlabel\u001b[0m\u001b[0;34m,\u001b[0m \u001b[0maxis\u001b[0m\u001b[0;34m=\u001b[0m\u001b[0maxis\u001b[0m\u001b[0;34m)\u001b[0m\u001b[0;34m\u001b[0m\u001b[0;34m\u001b[0m\u001b[0m\n\u001b[0m\u001b[1;32m    142\u001b[0m \u001b[0;34m\u001b[0m\u001b[0m\n\u001b[1;32m    143\u001b[0m     \u001b[0;32mdef\u001b[0m \u001b[0m_get_loc\u001b[0m\u001b[0;34m(\u001b[0m\u001b[0mself\u001b[0m\u001b[0;34m,\u001b[0m \u001b[0mkey\u001b[0m\u001b[0;34m,\u001b[0m \u001b[0maxis\u001b[0m\u001b[0;34m=\u001b[0m\u001b[0;32mNone\u001b[0m\u001b[0;34m)\u001b[0m\u001b[0;34m:\u001b[0m\u001b[0;34m\u001b[0m\u001b[0;34m\u001b[0m\u001b[0m\n",
      "\u001b[0;32m~/anaconda3/lib/python3.7/site-packages/pandas/core/generic.py\u001b[0m in \u001b[0;36mxs\u001b[0;34m(self, key, axis, level, drop_level)\u001b[0m\n\u001b[1;32m   3583\u001b[0m                                                       drop_level=drop_level)\n\u001b[1;32m   3584\u001b[0m         \u001b[0;32melse\u001b[0m\u001b[0;34m:\u001b[0m\u001b[0;34m\u001b[0m\u001b[0;34m\u001b[0m\u001b[0m\n\u001b[0;32m-> 3585\u001b[0;31m             \u001b[0mloc\u001b[0m \u001b[0;34m=\u001b[0m \u001b[0mself\u001b[0m\u001b[0;34m.\u001b[0m\u001b[0mindex\u001b[0m\u001b[0;34m.\u001b[0m\u001b[0mget_loc\u001b[0m\u001b[0;34m(\u001b[0m\u001b[0mkey\u001b[0m\u001b[0;34m)\u001b[0m\u001b[0;34m\u001b[0m\u001b[0;34m\u001b[0m\u001b[0m\n\u001b[0m\u001b[1;32m   3586\u001b[0m \u001b[0;34m\u001b[0m\u001b[0m\n\u001b[1;32m   3587\u001b[0m             \u001b[0;32mif\u001b[0m \u001b[0misinstance\u001b[0m\u001b[0;34m(\u001b[0m\u001b[0mloc\u001b[0m\u001b[0;34m,\u001b[0m \u001b[0mnp\u001b[0m\u001b[0;34m.\u001b[0m\u001b[0mndarray\u001b[0m\u001b[0;34m)\u001b[0m\u001b[0;34m:\u001b[0m\u001b[0;34m\u001b[0m\u001b[0;34m\u001b[0m\u001b[0m\n",
      "\u001b[0;32m~/anaconda3/lib/python3.7/site-packages/pandas/core/indexes/datetimes.py\u001b[0m in \u001b[0;36mget_loc\u001b[0;34m(self, key, method, tolerance)\u001b[0m\n\u001b[1;32m   1022\u001b[0m                 \u001b[0;32mreturn\u001b[0m \u001b[0mIndex\u001b[0m\u001b[0;34m.\u001b[0m\u001b[0mget_loc\u001b[0m\u001b[0;34m(\u001b[0m\u001b[0mself\u001b[0m\u001b[0;34m,\u001b[0m \u001b[0mstamp\u001b[0m\u001b[0;34m,\u001b[0m \u001b[0mmethod\u001b[0m\u001b[0;34m,\u001b[0m \u001b[0mtolerance\u001b[0m\u001b[0;34m)\u001b[0m\u001b[0;34m\u001b[0m\u001b[0;34m\u001b[0m\u001b[0m\n\u001b[1;32m   1023\u001b[0m             \u001b[0;32mexcept\u001b[0m \u001b[0mKeyError\u001b[0m\u001b[0;34m:\u001b[0m\u001b[0;34m\u001b[0m\u001b[0;34m\u001b[0m\u001b[0m\n\u001b[0;32m-> 1024\u001b[0;31m                 \u001b[0;32mraise\u001b[0m \u001b[0mKeyError\u001b[0m\u001b[0;34m(\u001b[0m\u001b[0mkey\u001b[0m\u001b[0;34m)\u001b[0m\u001b[0;34m\u001b[0m\u001b[0;34m\u001b[0m\u001b[0m\n\u001b[0m\u001b[1;32m   1025\u001b[0m             \u001b[0;32mexcept\u001b[0m \u001b[0mValueError\u001b[0m \u001b[0;32mas\u001b[0m \u001b[0me\u001b[0m\u001b[0;34m:\u001b[0m\u001b[0;34m\u001b[0m\u001b[0;34m\u001b[0m\u001b[0m\n\u001b[1;32m   1026\u001b[0m                 \u001b[0;31m# list-like tolerance size must match target index size\u001b[0m\u001b[0;34m\u001b[0m\u001b[0;34m\u001b[0m\u001b[0;34m\u001b[0m\u001b[0m\n",
      "\u001b[0;31mKeyError\u001b[0m: '201807111310'"
     ]
    },
    {
     "data": {
      "image/png": "[encoded data removed]",
      "text/plain": [
       "<Figure size 1920x960 with 1 Axes>"
      ]
     },
     "metadata": {},
     "output_type": "display_data"
    }
   ],
   "source": [
    "figures_folder = os.path.join(args.radar_figures_folder, 'Taiwan', 'RAD_and_QPE_dpi'+str(args.figure_dpi), 'Original')\n",
    "createfolder(os.path.join(figures_folder))\n",
    "\n",
    "X, Y = np.meshgrid(np.linspace(args.O_x[0],args.O_x[1],args.O_shape[0]), \n",
    "                   np.linspace(args.O_y[0],args.O_y[1],args.O_shape[1]))\n",
    "\n",
    "data_type = ['QPE','RAD']\n",
    "file_list = sorted(os.listdir(os.path.join(args.radar_wrangled_data_folder, data_type[1])))\n",
    "\n",
    "fig = plt.figure(figsize=(len(data_type)*8,8), dpi=args.figure_dpi)\n",
    "\n",
    "for i in range(len(file_list)):\n",
    "    filename = file_list[i]\n",
    "    trackname = file_list[i][:-17]\n",
    "    tracktime = file_list[i][-16:-4]\n",
    "    ty_track = pd.read_csv(os.path.join(args.ty_info_wrangled_data_folder, trackname+'.csv'))\n",
    "    ty_track.Time = pd.to_datetime(ty_track.Time)\n",
    "    ty_track.set_index('Time', inplace=True)\n",
    "    ty_track = ty_track.reindex(columns=['Lat','Lon'])\n",
    "    \n",
    "    for idx in range(len(data_type)):\n",
    "        ax = fig.add_subplot(1, len(data_type), idx+1)\n",
    "        data = pd.read_pickle(os.path.join(args.radar_wrangled_data_folder, data_type[idx], filename), compression=args.compression)\n",
    "        _ = m.readshapefile(args.TW_map_file, name='Taiwan', linewidth=0.25, drawbounds=True, color='k', ax=ax)\n",
    "        cs = m.contourf(x=X, y=Y, data=data.to_numpy(), colors=args[data_type[idx]+'_cmap'], levels=args[data_type[idx]+'_level'], ax=ax)\n",
    "        ax.scatter(x=ty_track.loc[tracktime].Lon, y=ty_track.loc[tracktime].Lat, marker='h', color='g', label='Ty Center')\n",
    "        ax.plot(ty_track.Lon, ty_track.Lat, '--', color='gray', label='Ty Path')\n",
    "        ax.set_xlabel(r'longtitude($^o$)',fontdict={'fontsize':10})\n",
    "        ax.set_ylabel(r'latitude($^o$)',fontdict={'fontsize':10})\n",
    "        _ = ax.set_xticks(ticks = np.linspace(args.O_x[0], args.O_x[1], 5))\n",
    "        _ = ax.set_yticks(ticks = np.linspace(args.O_y[0], args.O_y[1], 5))\n",
    "        ax.tick_params('both', labelsize=10)\n",
    "        cbar = fig.colorbar(cs, ax=ax, shrink=0.8)\n",
    "        cbar.ax.tick_params(labelsize=10)\n",
    "        ax.legend(fontsize=10)\n",
    "        ax.set_title(data_type[idx],fontsize=10)\n",
    "        fig.suptitle(filename[:-4])\n",
    "    fig.savefig(os.path.join(figures_folder, filename[:-4]+'.png'), dpi=args.figure_dpi, bbox_inches='tight')\n",
    "    fig.clf()"
   ]
  },
  {
   "cell_type": "markdown",
   "metadata": {},
   "source": [
    "## QPE with winds"
   ]
  },
  {
   "cell_type": "code",
   "execution_count": 79,
   "metadata": {},
   "outputs": [
    {
     "data": {
      "text/plain": [
       "<Figure size 960x960 with 0 Axes>"
      ]
     },
     "metadata": {},
     "output_type": "display_data"
    }
   ],
   "source": [
    "figures_folder = os.path.join(args.radar_figures_folder, 'Taiwan', 'RAD_and_QPE_dpi'+str(args.figure_dpi), 'WD')\n",
    "createfolder(os.path.join(figures_folder))\n",
    "\n",
    "X, Y = np.meshgrid(np.linspace(args.O_x[0],args.O_x[1],args.O_shape[0]), \n",
    "                   np.linspace(args.O_y[0],args.O_y[1],args.O_shape[1]))\n",
    "\n",
    "data_type = ['QPE']\n",
    "file_list = sorted(os.listdir(os.path.join(args.radar_wrangled_data_folder, data_type[0])))\n",
    "\n",
    "fig = plt.figure(figsize=(len(data_type)*8,8), dpi=args.figure_dpi)\n",
    "\n",
    "for i in range(len(file_list)):\n",
    "    filename = file_list[i]\n",
    "    trackname = file_list[i][:-17]\n",
    "    tracktime = file_list[i][-16:-4]\n",
    "    ty_track = pd.read_csv(os.path.join(args.ty_info_wrangled_data_folder, trackname+'.csv'))\n",
    "    ty_track.Time = pd.to_datetime(ty_track.Time)\n",
    "    ty_track.set_index('Time', inplace=True)\n",
    "    ty_track = ty_track.reindex(columns=['Lat','Lon'])\n",
    "    wx = np.arange(0,561,20)\n",
    "    wy = np.arange(0,441,20)\n",
    "    wd01 = pd.read_pickle(os.path.join(args.weather_wrangled_data_folder, 'WD01', filename), compression=args.compression).iloc[wx,wy]\n",
    "    wd02 = pd.read_pickle(os.path.join(args.weather_wrangled_data_folder, 'WD02', filename), compression=args.compression).iloc[wx,wy].to_numpy()\n",
    "    u = (np.sin(wd02)*wd01).to_numpy()\n",
    "    v = (np.cos(wd02)*wd01).to_numpy()\n",
    "    wx, wy = np.meshgrid(wd01.columns.to_numpy(), wd01.index.to_numpy())\n",
    "    for idx in range(len(data_type)):\n",
    "        ax = fig.add_subplot(1, len(data_type), idx+1)\n",
    "        data = pd.read_pickle(os.path.join(args.radar_wrangled_data_folder, data_type[idx], filename), compression=args.compression)\n",
    "        \n",
    "        _ = m.readshapefile(args.TW_map_file, name='Taiwan', linewidth=0.25, drawbounds=True, color='k', ax=ax)\n",
    "        cs = m.contourf(x=X, y=Y, data=data.to_numpy(), colors=args[data_type[idx]+'_cmap'], levels=args[data_type[idx]+'_level'], ax=ax)\n",
    "        ax.quiver(wx,wy,u,v,color='gray')\n",
    "        ax.scatter(x=ty_track.loc[tracktime].Lon, y=ty_track.loc[tracktime].Lat, marker='h', color='g', label='Ty Center')\n",
    "        ax.plot(ty_track.Lon, ty_track.Lat, '--', color='gray', label='Ty Path')\n",
    "        ax.set_xlabel(r'longtitude($^o$)',fontdict={'fontsize':10})\n",
    "        ax.set_ylabel(r'latitude($^o$)',fontdict={'fontsize':10})\n",
    "        _ = ax.set_xticks(ticks = np.linspace(args.O_x[0], args.O_x[1], 5))\n",
    "        _ = ax.set_yticks(ticks = np.linspace(args.O_y[0], args.O_y[1], 5))\n",
    "        ax.tick_params('both', labelsize=10)\n",
    "        cbar = fig.colorbar(cs, ax=ax, shrink=0.8)\n",
    "        cbar.ax.tick_params(labelsize=10)\n",
    "        ax.legend(fontsize=10)\n",
    "        ax.set_title(data_type[idx],fontsize=10)\n",
    "        fig.suptitle(filename[:-4])\n",
    "    fig.savefig(os.path.join(figures_folder, filename[:-4]+'.png'), dpi=args.figure_dpi, bbox_inches='tight')\n",
    "    fig.clf()\n",
    "    if file_list[i][:4] != '2012':\n",
    "        break"
   ]
  },
  {
   "cell_type": "markdown",
   "metadata": {},
   "source": [
    "## QPE with rh"
   ]
  },
  {
   "cell_type": "code",
   "execution_count": 75,
   "metadata": {},
   "outputs": [],
   "source": [
    "figures_folder = os.path.join(args.radar_figures_folder, 'Taiwan', 'RAD_and_QPE_dpi'+str(args.figure_dpi), 'RH')\n",
    "createfolder(os.path.join(figures_folder))\n",
    "\n",
    "X, Y = np.meshgrid(np.linspace(args.O_x[0],args.O_x[1],args.O_shape[0]), np.linspace(args.O_y[0],args.O_y[1],args.O_shape[1]))\n",
    "\n",
    "data_type = ['QPE']\n",
    "file_list = sorted(os.listdir(os.path.join(args.radar_wrangled_data_folder, data_type[0])))\n",
    "\n",
    "fig = plt.figure(figsize=(len(data_type)*10,8), dpi=args.figure_dpi)\n",
    "\n",
    "for i in range(len(file_list)):\n",
    "    filename = file_list[i]\n",
    "    trackname = file_list[i][:-17]\n",
    "    tracktime = file_list[i][-16:-4]\n",
    "    ty_track = pd.read_csv(os.path.join(args.ty_info_wrangled_data_folder, trackname+'.csv'))\n",
    "    ty_track.Time = pd.to_datetime(ty_track.Time)\n",
    "    ty_track.set_index('Time', inplace=True)\n",
    "    ty_track = ty_track.reindex(columns=['Lat','Lon'])\n",
    "    \n",
    "    rh = pd.read_pickle(os.path.join(args.weather_wrangled_data_folder, 'RH01', filename), compression=args.compression)\n",
    "    for idx in range(len(data_type)):\n",
    "        ax = fig.add_subplot(1, len(data_type), idx+1)\n",
    "        data = pd.read_pickle(os.path.join(args.radar_wrangled_data_folder, data_type[idx], filename), compression=args.compression)\n",
    "        \n",
    "        _ = m.readshapefile(args.TW_map_file, name='Taiwan', linewidth=0.25, drawbounds=True, color='k', ax=ax)\n",
    "        \n",
    "        cs = m.contourf(x=X, y=Y, data=rh.to_numpy(), alpha=0.8, cmap=\"RdBu_r\", levels=args.RH01_level)\n",
    "        cbar = fig.colorbar(cs, ax=ax, shrink=0.8, )\n",
    "        cbar.ax.tick_params(labelsize=10)\n",
    "        \n",
    "        cs = m.contourf(x=X, y=Y, data=data.to_numpy(), alpha=0.8, colors=args[data_type[idx]+'_cmap'], levels=args[data_type[idx]+'_level'], ax=ax)\n",
    "        cbar = fig.colorbar(cs, ax=ax, shrink=0.7)\n",
    "        cbar.ax.tick_params(labelsize=10)\n",
    "        \n",
    "        ax.scatter(x=ty_track.loc[tracktime].Lon, y=ty_track.loc[tracktime].Lat, marker='h', color='g', label='Ty Center')\n",
    "        ax.plot(ty_track.Lon, ty_track.Lat, '--', color='gray', label='Ty Path')\n",
    "        ax.set_xlabel(r'longtitude($^o$)',fontdict={'fontsize':10})\n",
    "        ax.set_ylabel(r'latitude($^o$)',fontdict={'fontsize':10})\n",
    "        _ = ax.set_xticks(ticks = np.linspace(args.O_x[0], args.O_x[1], 5))\n",
    "        _ = ax.set_yticks(ticks = np.linspace(args.O_y[0], args.O_y[1], 5))\n",
    "        ax.tick_params('both', labelsize=10)\n",
    "        ax.legend(fontsize=10)\n",
    "        ax.set_title(data_type[idx], fontsize=10)\n",
    "        fig.suptitle(filename[:-4])\n",
    "    fig.savefig(os.path.join(figures_folder, filename[:-4]+'.png'), dpi=args.figure_dpi, bbox_inches='tight')\n",
    "    fig.clf()\n",
    "    if file_list[i][:4] != '2012':\n",
    "        break"
   ]
  },
  {
   "cell_type": "markdown",
   "metadata": {},
   "source": [
    "## QPE with PP"
   ]
  },
  {
   "cell_type": "code",
   "execution_count": 77,
   "metadata": {},
   "outputs": [],
   "source": [
    "figures_folder = os.path.join(args.radar_figures_folder, 'Taiwan', 'RAD_and_QPE_dpi'+str(args.figure_dpi), 'PP')\n",
    "createfolder(os.path.join(figures_folder))\n",
    "\n",
    "X, Y = np.meshgrid(np.linspace(args.O_x[0],args.O_x[1],args.O_shape[0]), np.linspace(args.O_y[0],args.O_y[1],args.O_shape[1]))\n",
    "\n",
    "data_type = ['QPE']\n",
    "file_list = sorted(os.listdir(os.path.join(args.radar_wrangled_data_folder, data_type[0])))\n",
    "\n",
    "fig = plt.figure(figsize=(len(data_type)*10,8), dpi=args.figure_dpi)\n",
    "\n",
    "for i in range(len(file_list)):\n",
    "    filename = file_list[i]\n",
    "    trackname = file_list[i][:-17]\n",
    "    tracktime = file_list[i][-16:-4]\n",
    "    ty_track = pd.read_csv(os.path.join(args.ty_info_wrangled_data_folder, trackname+'.csv'))\n",
    "    ty_track.Time = pd.to_datetime(ty_track.Time)\n",
    "    ty_track.set_index('Time', inplace=True)\n",
    "    ty_track = ty_track.reindex(columns=['Lat','Lon'])\n",
    "    \n",
    "    weatherdata = pd.read_pickle(os.path.join(args.weather_wrangled_data_folder, 'PP01', filename), compression=args.compression)\n",
    "    for idx in range(len(data_type)):\n",
    "        ax = fig.add_subplot(1, len(data_type), idx+1)\n",
    "        data = pd.read_pickle(os.path.join(args.radar_wrangled_data_folder, data_type[idx], filename), compression=args.compression)\n",
    "        \n",
    "        _ = m.readshapefile(args.TW_map_file, name='Taiwan', linewidth=0.25, drawbounds=True, color='k', ax=ax)\n",
    "        \n",
    "        cs = m.contourf(x=X, y=Y, data=weatherdata.to_numpy(), alpha=0.8, cmap=\"RdBu_r\", levels=args.PP01_level)\n",
    "        cbar = fig.colorbar(cs, ax=ax, shrink=0.8, )\n",
    "        cbar.ax.tick_params(labelsize=10)\n",
    "        \n",
    "        cs = m.contourf(x=X, y=Y, data=data.to_numpy(), alpha=0.8, colors=args[data_type[idx]+'_cmap'], levels=args[data_type[idx]+'_level'], ax=ax)\n",
    "        cbar = fig.colorbar(cs, ax=ax, shrink=0.8)\n",
    "        cbar.ax.tick_params(labelsize=10)\n",
    "        \n",
    "        ax.scatter(x=ty_track.loc[tracktime].Lon, y=ty_track.loc[tracktime].Lat, marker='h', color='g', label='Ty Center')\n",
    "        ax.plot(ty_track.Lon, ty_track.Lat, '--', color='gray', label='Ty Path')\n",
    "        ax.set_xlabel(r'longtitude($^o$)',fontdict={'fontsize':10})\n",
    "        ax.set_ylabel(r'latitude($^o$)',fontdict={'fontsize':10})\n",
    "        _ = ax.set_xticks(ticks = np.linspace(args.O_x[0], args.O_x[1], 5))\n",
    "        _ = ax.set_yticks(ticks = np.linspace(args.O_y[0], args.O_y[1], 5))\n",
    "        ax.tick_params('both', labelsize=10)\n",
    "        ax.legend(fontsize=10)\n",
    "        ax.set_title(data_type[idx], fontsize=10)\n",
    "        fig.suptitle(filename[:-4])\n",
    "    fig.savefig(os.path.join(figures_folder, filename[:-4]+'.png'), dpi=args.figure_dpi, bbox_inches='tight')\n",
    "    fig.clf()\n",
    "    if file_list[i][:4] != '2012':\n",
    "        break"
   ]
  },
  {
   "cell_type": "markdown",
   "metadata": {},
   "source": [
    "## QPE with PS"
   ]
  },
  {
   "cell_type": "code",
   "execution_count": 80,
   "metadata": {},
   "outputs": [
    {
     "data": {
      "text/plain": [
       "<Figure size 1200x960 with 0 Axes>"
      ]
     },
     "metadata": {},
     "output_type": "display_data"
    }
   ],
   "source": [
    "figures_folder = os.path.join(args.radar_figures_folder, 'Taiwan', 'RAD_and_QPE_dpi'+str(args.figure_dpi), 'PS')\n",
    "createfolder(os.path.join(figures_folder))\n",
    "\n",
    "X, Y = np.meshgrid(np.linspace(args.O_x[0],args.O_x[1],args.O_shape[0]), np.linspace(args.O_y[0],args.O_y[1],args.O_shape[1]))\n",
    "\n",
    "data_type = ['QPE']\n",
    "file_list = sorted(os.listdir(os.path.join(args.radar_wrangled_data_folder, data_type[0])))\n",
    "\n",
    "fig = plt.figure(figsize=(len(data_type)*10,8), dpi=args.figure_dpi)\n",
    "\n",
    "for i in range(len(file_list)):\n",
    "    filename = file_list[i]\n",
    "    trackname = file_list[i][:-17]\n",
    "    tracktime = file_list[i][-16:-4]\n",
    "    ty_track = pd.read_csv(os.path.join(args.ty_info_wrangled_data_folder, trackname+'.csv'))\n",
    "    ty_track.Time = pd.to_datetime(ty_track.Time)\n",
    "    ty_track.set_index('Time', inplace=True)\n",
    "    ty_track = ty_track.reindex(columns=['Lat','Lon'])\n",
    "    \n",
    "    weatherdata = pd.read_pickle(os.path.join(args.weather_wrangled_data_folder, 'PS01', filename), compression=args.compression)\n",
    "    for idx in range(len(data_type)):\n",
    "        ax = fig.add_subplot(1, len(data_type), idx+1)\n",
    "        data = pd.read_pickle(os.path.join(args.radar_wrangled_data_folder, data_type[idx], filename), compression=args.compression)\n",
    "        \n",
    "        _ = m.readshapefile(args.TW_map_file, name='Taiwan', linewidth=0.25, drawbounds=True, color='k', ax=ax)\n",
    "        \n",
    "        cs = m.contourf(x=X, y=Y, data=weatherdata.to_numpy(), alpha=0.8, cmap=\"RdBu_r\", levels=args.PP01_level)\n",
    "        cbar = fig.colorbar(cs, ax=ax, shrink=0.8, )\n",
    "        cbar.ax.tick_params(labelsize=10)\n",
    "        \n",
    "        cs = m.contourf(x=X, y=Y, data=data.to_numpy(), alpha=0.8, colors=args[data_type[idx]+'_cmap'], levels=args[data_type[idx]+'_level'], ax=ax)\n",
    "        cbar = fig.colorbar(cs, ax=ax, shrink=0.8)\n",
    "        cbar.ax.tick_params(labelsize=10)\n",
    "        \n",
    "        ax.scatter(x=ty_track.loc[tracktime].Lon, y=ty_track.loc[tracktime].Lat, marker='h', color='g', label='Ty Center')\n",
    "        ax.plot(ty_track.Lon, ty_track.Lat, '--', color='gray', label='Ty Path')\n",
    "        ax.set_xlabel(r'longtitude($^o$)',fontdict={'fontsize':10})\n",
    "        ax.set_ylabel(r'latitude($^o$)',fontdict={'fontsize':10})\n",
    "        _ = ax.set_xticks(ticks = np.linspace(args.O_x[0], args.O_x[1], 5))\n",
    "        _ = ax.set_yticks(ticks = np.linspace(args.O_y[0], args.O_y[1], 5))\n",
    "        ax.tick_params('both', labelsize=10)\n",
    "        ax.legend(fontsize=10)\n",
    "        ax.set_title(data_type[idx], fontsize=10)\n",
    "        fig.suptitle(filename[:-4])\n",
    "    fig.savefig(os.path.join(figures_folder, filename[:-4]+'.png'), dpi=args.figure_dpi, bbox_inches='tight')\n",
    "    fig.clf()\n",
    "    if file_list[i][:4] != '2012':\n",
    "        break"
   ]
  },
  {
   "cell_type": "markdown",
   "metadata": {},
   "source": [
    "### Plot all data together in Taipei"
   ]
  },
  {
   "cell_type": "code",
   "execution_count": 24,
   "metadata": {},
   "outputs": [],
   "source": [
    "m = Basemap(projection='cyl', resolution='h', llcrnrlat=args.I_y[0], \n",
    "           urcrnrlat=args.I_y[1], llcrnrlon=args.I_x[0], urcrnrlon=args.I_x[1])"
   ]
  },
  {
   "cell_type": "code",
   "execution_count": 27,
   "metadata": {},
   "outputs": [
    {
     "data": {
      "text/plain": [
       "<Figure size 2400x1200 with 0 Axes>"
      ]
     },
     "metadata": {},
     "output_type": "display_data"
    }
   ],
   "source": [
    "figures_folder = os.path.join(args.radar_figures_folder, 'Taipei', 'RAD_and_QPE_dpi100')\n",
    "createfolder(os.path.join(figures_folder))\n",
    "\n",
    "X, Y = np.meshgrid(np.linspace(args.O_x[0],args.O_x[1],args.O_shape[0]), \n",
    "                   np.linspace(args.O_y[0],args.O_y[1],args.O_shape[1]))\n",
    "\n",
    "data_type = ['QPE','RAD']\n",
    "file_list = sorted(os.listdir(os.path.join(args.radar_wrangled_data_folder, data_type[1])))\n",
    "\n",
    "fig = plt.figure(figsize=(len(data_type)*8,8), dpi=args.figure_dpi)\n",
    "\n",
    "for filename in file_list:\n",
    "    for idx in range(len(data_type)):\n",
    "        ax = fig.add_subplot(1, len(data_type), idx+1)\n",
    "        data = pd.read_pickle(os.path.join(args.radar_wrangled_data_folder, data_type[idx], filename), compression=args.compression)\n",
    "        _ = m.readshapefile(args.TW_map_file, name='Taiwan', linewidth=0.25, drawbounds=True, color='k', ax=ax)\n",
    "        cs = m.contourf(x=X, y=Y, data=data.to_numpy(), colors=args[data_type[idx]+'_cmap'], levels=args[data_type[idx]+'_level'], ax=ax)\n",
    "        ax.set_xlabel(r'longtitude($^o$)',fontdict={'fontsize':10})\n",
    "        ax.set_ylabel(r'latitude($^o$)',fontdict={'fontsize':10})\n",
    "        _ = ax.set_xticks(ticks = np.linspace(args.I_x[0], args.I_x[1], 5))\n",
    "        _ = ax.set_yticks(ticks = np.linspace(args.I_y[0], args.I_y[1], 5))\n",
    "        ax.tick_params('both', labelsize=10)\n",
    "        cbar = fig.colorbar(cs, ax=ax)\n",
    "        cbar.ax.tick_params(labelsize=10)\n",
    "        fig.suptitle(filename[:-4])\n",
    "    fig.savefig(os.path.join(figures_folder, filename[:-4]+'.png'), dpi=100, bbox_inches='tight')\n",
    "    fig.clf()"
   ]
  },
  {
   "cell_type": "code",
   "execution_count": 31,
   "metadata": {},
   "outputs": [
    {
     "data": {
      "text/plain": [
       "'201207312100'"
      ]
     },
     "execution_count": 31,
     "metadata": {},
     "output_type": "execute_result"
    }
   ],
   "source": []
  },
  {
   "cell_type": "code",
   "execution_count": 19,
   "metadata": {},
   "outputs": [
    {
     "data": {
      "text/plain": [
       "Lat     21.666667\n",
       "Lon    124.066667\n",
       "Name: 2012-07-31 21:00:00, dtype: float64"
      ]
     },
     "execution_count": 19,
     "metadata": {},
     "output_type": "execute_result"
    }
   ],
   "source": [
    "ty_track.loc['20120731210000']"
   ]
  },
  {
   "cell_type": "code",
   "execution_count": null,
   "metadata": {},
   "outputs": [],
   "source": []
  }
 ],
 "metadata": {
  "kernelspec": {
   "display_name": "Python 3",
   "language": "python",
   "name": "python3"
  },
  "language_info": {
   "codemirror_mode": {
    "name": "ipython",
    "version": 3
   },
   "file_extension": ".py",
   "mimetype": "text/x-python",
   "name": "python",
   "nbconvert_exporter": "python",
   "pygments_lexer": "ipython3",
   "version": "3.7.1"
  }
 },
 "nbformat": 4,
 "nbformat_minor": 2
}
